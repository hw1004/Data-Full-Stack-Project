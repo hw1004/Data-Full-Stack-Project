{
 "cells": [
  {
   "cell_type": "markdown",
   "id": "89b9c1ca",
   "metadata": {},
   "source": [
    "# Extract\n",
    "> Datasource to DataLake(HDFS)\n",
    ">\n",
    "> Coupang website에서 web crawling"
   ]
  },
  {
   "cell_type": "code",
   "execution_count": 2,
   "id": "d821a55c",
   "metadata": {
    "scrolled": true
   },
   "outputs": [],
   "source": [
    "# !pip install hdfs"
   ]
  },
  {
   "cell_type": "code",
   "execution_count": 22,
   "id": "a2e005e2",
   "metadata": {},
   "outputs": [],
   "source": [
    "from hdfs import InsecureClient # hadoop 서버와 연결하는  client객체 모듈(hdfs 접근)\n",
    "import requests # web 사용\n",
    "import json # json 기능 사용\n",
    "import datetime as dt"
   ]
  },
  {
   "cell_type": "markdown",
   "id": "c3d50390",
   "metadata": {},
   "source": [
    "## DL => DW\n",
    "- 필요 data Lake에서 HDFS로 이동 저장 단계\n",
    "- 쿠팡 웹사이트 web 페이지 크롤링\n",
    "\n"
   ]
  },
  {
   "cell_type": "code",
   "execution_count": 23,
   "id": "aca6d864",
   "metadata": {},
   "outputs": [],
   "source": [
    "## hdfs client 연결객체 생성\n",
    "client=InsecureClient('http://localhost:9870',user='lab04')"
   ]
  },
  {
   "cell_type": "markdown",
   "id": "aa11a223",
   "metadata": {},
   "source": [
    "Logger 사용"
   ]
  },
  {
   "cell_type": "code",
   "execution_count": 3,
   "id": "a773a779",
   "metadata": {},
   "outputs": [],
   "source": [
    "import logging"
   ]
  },
  {
   "cell_type": "code",
   "execution_count": 4,
   "id": "1fe075a8",
   "metadata": {},
   "outputs": [],
   "source": [
    "# 현재 날짜로부터 befor_day 만큼 이전의 날짜를 생성해주는 함수\n",
    "def cal_std_day(befor_day):   \n",
    "    x = dt.datetime.now() - dt.timedelta(befor_day)\n",
    "    year = x.year\n",
    "    month = x.month if x.month >= 10 else '0'+ str(x.month)\n",
    "    day = x.day if x.day >= 10 else '0'+ str(x.day)  \n",
    "    return str(year)+ '-' +str(month)+ '-' +str(day)"
   ]
  },
  {
   "cell_type": "code",
   "execution_count": 5,
   "id": "f8a4d5ad",
   "metadata": {},
   "outputs": [
    {
     "data": {
      "text/plain": [
       "'2023-01-26'"
      ]
     },
     "execution_count": 5,
     "metadata": {},
     "output_type": "execute_result"
    }
   ],
   "source": [
    "cal_std_day(365)"
   ]
  },
  {
   "cell_type": "code",
   "execution_count": 6,
   "id": "6fc82710",
   "metadata": {},
   "outputs": [],
   "source": [
    "co_logger = logging.getLogger('coupang')\n",
    "f_handler = logging.FileHandler('./log/coupang_crawl/'+cal_std_day(0)+'.log')\n",
    "co_logger.addHandler(f_handler)"
   ]
  },
  {
   "cell_type": "markdown",
   "id": "acecc150",
   "metadata": {},
   "source": []
  },
  {
   "cell_type": "code",
   "execution_count": 7,
   "id": "e302ac72-a779-4fdb-81ef-981c9aae0154",
   "metadata": {},
   "outputs": [],
   "source": [
    "# !pip install --upgrade typing-extensions"
   ]
  },
  {
   "cell_type": "code",
   "execution_count": 8,
   "id": "bd04c399",
   "metadata": {
    "scrolled": true
   },
   "outputs": [],
   "source": [
    "# !pip install selenium\n",
    "# !pip install requests\n",
    "# !pip install bs4"
   ]
  },
  {
   "cell_type": "code",
   "execution_count": 9,
   "id": "4984c1c2-bd2f-4d22-a38b-3a4ed663f404",
   "metadata": {},
   "outputs": [],
   "source": [
    "import pandas as pd\n",
    "import numpy as np\n",
    "import os\n",
    "\n",
    "# 패키지 임포트\n",
    "import selenium\n",
    "import pandas as pd\n",
    "import numpy as np\n",
    "import bs4\n",
    "from bs4 import BeautifulSoup\n",
    "from selenium import webdriver\n",
    "from selenium.webdriver.common.by import By # 셀레니움 4.0부터 포함된 함수(필수)\n",
    "import time\n",
    "from selenium.webdriver.common.keys import Keys\n",
    "\n",
    "from selenium.webdriver.chrome.service import Service\n",
    "\n",
    "import requests"
   ]
  },
  {
   "cell_type": "code",
   "execution_count": 10,
   "id": "e3eb28e9",
   "metadata": {},
   "outputs": [],
   "source": [
    "def extract_products():\n",
    "    url = 'https://www.coupang.com'\n",
    "    headers = {\"User-Agent\" : \"Mozilla/5.0 (X11; U; Linux i686; en-US; rv:1.9.0.3) Gecko/2008092416 Firefox/3.0.3\"}\n",
    "    \n",
    "    res = requests.get(url, headers=headers)\n",
    "    html = res.text\n",
    "    bs_obj = BeautifulSoup(html, 'html.parser')\n",
    "    # print(bs_obj.prettify())\n",
    "    \n",
    "    categories = bs_obj.find('ul', {'class': 'menu shopping-menu-list'})\\\n",
    "                    .select('#gnbAnalytics > ul.menu.shopping-menu-list > li > a')\n",
    "    first_categories = []\n",
    "    for category in categories:\n",
    "        first_categories.append(category.text)\n",
    "    \n",
    "    # 두번째 depth categories\n",
    "    second_category = []\n",
    "    first = bs_obj.select('#gnbAnalytics > ul.menu.shopping-menu-list > li')\n",
    "\n",
    "    for f in first:\n",
    "        category = f.find('a').text\n",
    "        second = f.findAll('li', {'class': 'second-depth-list'})\n",
    "        for s in second:\n",
    "            second_cat = s.find('a').text\n",
    "            if second_cat == '더보기':\n",
    "                continue\n",
    "            second_category.append([category, second_cat, 'http://www.coupang.com' + s.find('a')['href']])\n",
    "\n",
    "\n",
    "    one = []\n",
    "    two = []\n",
    "    three = []\n",
    "    for elem in second_category:\n",
    "        one.append(elem[0])\n",
    "        two.append(elem[1])\n",
    "        three.append(elem[2])\n",
    "\n",
    "    cat_urls = pd.DataFrame({'카테고리1': one, '카테고리2': two, 'url': three})\n",
    "    # cat_urls.to_csv('./category_urls.csv', index=False, encoding=\"utf-8-sig\")\n",
    "    \n",
    "    products_list = pd.DataFrame({'카테고리1': [], '카테고리2': [], '카테고리 url': [], '제품명': [], '제품 url': [], '리뷰 개수': [], '상품 별점': []})\n",
    "    for category in second_category:\n",
    "        print(category)\n",
    "        try:\n",
    "            url = category[2] + '?page=1'\n",
    "            headers = {\"User-Agent\" : \"Mozilla/5.0 (X11; U; Linux i686; en-US; rv:1.9.0.3) Gecko/2008092416 Firefox/3.0.3\"}\n",
    "            res = requests.get(url, headers=headers)\n",
    "            html = res.text\n",
    "\n",
    "            bs_url = BeautifulSoup(html, 'html.parser')\n",
    "\n",
    "            page_cnt = bs_url.find('div', {'id': 'product-list-paging'})['data-total']\n",
    "            page_cnt = int(page_cnt)\n",
    "\n",
    "\n",
    "            for i in range(1, page_cnt + 1):  # page_cnt + 1\n",
    "                page_url = url[:-1] + str(i)\n",
    "                headers = {\"User-Agent\" : \"Mozilla/5.0 (X11; U; Linux i686; en-US; rv:1.9.0.3) Gecko/2008092416 Firefox/3.0.3\"}\n",
    "                res = requests.get(page_url, headers=headers)\n",
    "                html = res.text\n",
    "\n",
    "                bs_page = bs4.BeautifulSoup(html, 'html.parser')\n",
    "                # print(page_url)\n",
    "\n",
    "                product_url = bs_page.find_all('a', {'class': 'baby-product-link'})\n",
    "                product_name = bs_page.find_all('dt', {'class': 'image'})\n",
    "                review_cnt = bs_page.find_all('span', {'class': 'rating-total-count'})\n",
    "                product_star = bs_page.find_all('em', {'class': 'rating'})\n",
    "                # print(product_url, product_name)\n",
    "\n",
    "                # 제품명 scrapping\n",
    "                result = []\n",
    "\n",
    "                for ul, name, cnt, star in zip(product_url, product_name, review_cnt, product_star):\n",
    "                    ul = 'http://www.coupang.com' + str(ul['href'])\n",
    "                    name = name.find('img')['alt']\n",
    "                    cnt = cnt.text[1:-1]\n",
    "                    result.append(pd.DataFrame({'카테고리1':category[0], '카테고리2':category[1], '카테고리 url':url,'제품명': name, '제품 url': ul, '리뷰 개수': cnt, '상품 별점': star},\n",
    "                                                index=range(0,1)))\n",
    "\n",
    "                single_page = pd.concat(result).reset_index(drop=True)\n",
    "\n",
    "                products_list = pd.concat([products_list, single_page]).reset_index(drop=True)\n",
    "        except:\n",
    "                time.sleep(2)\n",
    "\n",
    "                url = category[2] + '?page=1'\n",
    "                headers = {\"User-Agent\" : \"Mozilla/5.0 (X11; U; Linux i686; en-US; rv:1.9.0.3) Gecko/2008092416 Firefox/3.0.3\"}\n",
    "                res = requests.get(url, headers=headers)\n",
    "                html = res.text\n",
    "\n",
    "                bs_url = BeautifulSoup(html, 'html.parser')\n",
    "\n",
    "                page_cnt = bs_url.find('div', {'id': 'product-list-paging'})['data-total']\n",
    "                page_cnt = int(page_cnt)\n",
    "\n",
    "\n",
    "                for i in range(1, page_cnt + 1):\n",
    "                    page_url = url[:-1] + str(i)\n",
    "                    headers = {\"User-Agent\" : \"Mozilla/5.0 (X11; U; Linux i686; en-US; rv:1.9.0.3) Gecko/2008092416 Firefox/3.0.3\"}\n",
    "                    res = requests.get(page_url, headers=headers)\n",
    "                    html = res.text\n",
    "\n",
    "                    bs_page = bs4.BeautifulSoup(html, 'html.parser')\n",
    "                    # print(page_url)\n",
    "\n",
    "                    product_url = bs_page.find_all('a', {'class': 'baby-product-link'})\n",
    "                    product_name = bs_page.find_all('dt', {'class': 'image'})\n",
    "                    review_cnt = bs_page.find_all('span', {'class': 'rating-total-count'})\n",
    "                    product_star = bs_page.find_all('em', {'class': 'rating'})\n",
    "                    # print(product_url, product_name)\n",
    "\n",
    "                    # 제품명 scrapping\n",
    "                    result = []\n",
    "\n",
    "                    for ul, name, cnt, star in zip(product_url, product_name, review_cnt, product_star):\n",
    "                        ul = 'http://www.coupang.com' + str(ul['href'])\n",
    "                        name = name.find('img')['alt']\n",
    "                        cnt = cnt.text[1:-1]\n",
    "                        result.append(pd.DataFrame({'카테고리1':category[0], '카테고리2':category[1], '카테고리 url':url,'제품명': name, '제품 url': ul, '리뷰 개수': cnt, '상품 별점': star},\n",
    "                                                    index=range(0,1)))\n",
    "\n",
    "                    single_page = pd.concat(result).reset_index(drop=True)\n",
    "\n",
    "                    products_list = pd.concat([products_list, single_page]).reset_index(drop=True)\n",
    "    return products_list"
   ]
  },
  {
   "cell_type": "markdown",
   "id": "c09f5070",
   "metadata": {},
   "source": [
    "# 리뷰 데이터 크롤링 코드\n"
   ]
  },
  {
   "cell_type": "code",
   "execution_count": 11,
   "id": "cfd76dbf",
   "metadata": {},
   "outputs": [],
   "source": [
    "# 크롤링해 올 리뷰 개수 조정을 위한 코드\n",
    "def crawl_star_cnt(url):\n",
    "    # url = 'https://www.coupang.com/vp/products/7350133859?itemId=18912258874&vendorItemId=82079311639&sourceType=sdp_carousel_3_ads&clickEventId=71c3eb60-aa43-11ee-9730-43f77ae31272&templateId=2114&isAddedCart='\n",
    "    driver = webdriver.Chrome()\n",
    "    driver.set_window_size(500, 500)\n",
    "    # time.sleep(2)\n",
    "    driver.get(url)\n",
    "    time.sleep(2)\n",
    "    driver.set_window_size(500, 500)\n",
    "    \n",
    "    driver.find_element(By.XPATH, '//*[@id=\"btfTab\"]/ul[1]/li[2]').click()  # 상품평 클릭\n",
    "    time.sleep(5)\n",
    "    \n",
    "    driver.find_element(By.CSS_SELECTOR, '.sdp-review__article__order__star.js_reviewArticleSearchStarSelectBtn').click()\n",
    "    time.sleep(2)\n",
    "    star_review = driver.find_elements(By.CSS_SELECTOR, '.sdp-review__article__order__star__list__item.js_reviewArticleStarSelectOption')\n",
    "    cnt = []\n",
    "    for i in range(1,6):\n",
    "        star_cnt = driver.find_element(By.CSS_SELECTOR, '.sdp-review__article__order__star__list__item__count.js_reviewArticleOptionStarCount' + str(i))\n",
    "        cnt.append(star_cnt)\n",
    "    # 5개의 별점 분류체제의 각 별점별로 리뷰의 개수 가져오기\n",
    "    star_distribution = []\n",
    "    for lvl, ct in zip(star_review, cnt):\n",
    "        level = lvl.get_attribute('data-rating')\n",
    "        count = ct.text.replace(',', '')\n",
    "        star_distribution.append([level, count])\n",
    "    driver.close()\n",
    "    \n",
    "    # driver.close()\n",
    "    \n",
    "    # 3개의 분류체제로 변형하기\n",
    "    star_three = []\n",
    "    negative = 0\n",
    "    for i in star_distribution:\n",
    "        if i[0] == '5':\n",
    "            star_three.append(['좋음', int(i[1])])\n",
    "        if i[0] == '4':\n",
    "            star_three.append(['보통', int(i[1])])\n",
    "        if (i[0] == '3') | (i[0] == '2') | (i[0] == '1'):\n",
    "            negative += int(i[1])\n",
    "    star_three.append(['별로', negative])\n",
    "    star_three\n",
    "    return star_three"
   ]
  },
  {
   "cell_type": "code",
   "execution_count": 12,
   "id": "d0660498",
   "metadata": {},
   "outputs": [],
   "source": [
    "# 좋음, 보통, 별로 중 가장 리뷰의 개수가 적은 데이터를 뽑는다.\n",
    "# 그렇게 해서 구한 가장 적은 리뷰의 개수가 100개 이상일 때, 좋음, 보통, 별로 3개에 대한 리뷰를 각각 100개씩만 가져온다.\n",
    "# 가장 작은 리뷰의 개수가 최소 5개 이상은 되는 상품만 이용\n",
    "def min_star(url):\n",
    "    star_cnt = crawl_star_cnt(url)\n",
    "    min = star_cnt[0][1]\n",
    "    for i in star_cnt:\n",
    "        if i[1] < min:\n",
    "            min = i[1]\n",
    "            star_level = i[0]\n",
    "    if min > 42:  # 가장 적은 리뷰의 개수가 60개 이상이면 min을 60으로 정한다\n",
    "        min = 42\n",
    "    return [star_level, min]\n",
    "\n"
   ]
  },
  {
   "cell_type": "code",
   "execution_count": 13,
   "id": "b0d89bad",
   "metadata": {},
   "outputs": [],
   "source": [
    "def get_star_page(url):\n",
    "    driver = webdriver.Chrome()\n",
    "    driver.set_window_size(500, 500)\n",
    "    # time.sleep(2)\n",
    "    driver.get(url)\n",
    "    time.sleep(2)\n",
    "    \n",
    "    min = min_star(url)\n",
    "    \n",
    "    driver.find_element(By.XPATH, '//*[@id=\"btfTab\"]/ul[1]/li[2]').click()  # 상품평 클릭\n",
    "    time.sleep(2)\n",
    "    \n",
    "    driver.find_element(By.CSS_SELECTOR, '.sdp-review__article__order__star.js_reviewArticleSearchStarSelectBtn').click()\n",
    "    "
   ]
  },
  {
   "cell_type": "code",
   "execution_count": 14,
   "id": "0664e9e4",
   "metadata": {},
   "outputs": [],
   "source": [
    "def review_data(reviews):\n",
    "    product_reviews = []\n",
    "    # try:\n",
    "    for review in reviews:\n",
    "        # name = review.find('span', class_='sdp-review__article__list__info__user__name js_reviewUserProfileImage')\n",
    "        # member_id = review.find('span', class_='sdp-review__article__list__info__user__name js_reviewUserProfileImage')['data-member-id']\n",
    "        # star = review.find('div', class_='sdp-review__article__list__info__product-info__star-orange js_reviewArticleRatingValue')['data-rating']\n",
    "        # title = review.find('div', class_='sdp-review__article__list__headline')\n",
    "        # contents = review.find('div', class_='sdp-review__article__list__review__content js_reviewArticleContent')\n",
    "        # help = review.find('span', class_='js_reviewArticleHelpfulCount')\n",
    "        # date = review.find('div', class_='sdp-review__article__list__info__product-info__reg-date')\n",
    "\n",
    "        try:\n",
    "            # time.sleep(0.1)\n",
    "            name = review.find_element(By.CSS_SELECTOR, '.sdp-review__article__list__info__user__name.js_reviewUserProfileImage')\n",
    "            time.sleep(1)\n",
    "        except:\n",
    "            name = '없음'\n",
    "        try:\n",
    "            # time.sleep(0.1)\n",
    "            member_id = review.find_element(By.CSS_SELECTOR, '.sdp-review__article__list__info__user__name.js_reviewUserProfileImage').get_attribute('data-member-id')\n",
    "            # time.sleep(1)\n",
    "            \n",
    "        except:\n",
    "            member_id = '없음'\n",
    "        try:\n",
    "            # time.sleep(0.1)\n",
    "            star = review.find_element(By.CSS_SELECTOR, '.sdp-review__article__list__info__product-info__star-orange.js_reviewArticleRatingValue').get_attribute('data-rating')\n",
    "            # time.sleep(1)\n",
    "            \n",
    "        except:\n",
    "            star = '없음'\n",
    "        try:\n",
    "            # time.sleep(0.1)\n",
    "            title = review.find_element(By.CSS_SELECTOR, '.sdp-review__article__list__headline')\n",
    "            # time.sleep(1)\n",
    "        except:\n",
    "            title = '없음'\n",
    "        try:\n",
    "            # time.sleep(0.1)\n",
    "            contents = review.find_element(By.CSS_SELECTOR, '.sdp-review__article__list__review__content.js_reviewArticleContent')\n",
    "            # time.sleep(1)\n",
    "        except:\n",
    "            contents = '없음'\n",
    "        try:\n",
    "            # time.sleep(0.1)\n",
    "            help = review.find_element(By.CSS_SELECTOR, '.js_reviewArticleHelpfulCount')\n",
    "            # time.sleep(1)\n",
    "        except:\n",
    "            help = '없음'\n",
    "        try:\n",
    "            # time.sleep(0.1)\n",
    "            date = review.find_element(By.CSS_SELECTOR, '.sdp-review__article__list__info__product-info__reg-date')\n",
    "            # time.sleep(1)\n",
    "        except:\n",
    "            date = '없음'\n",
    "\n",
    "        try:\n",
    "            image = review.find_elements(By.CSS_SELECTOR, '.sdp-review__article__list__attachment__list')\n",
    "            if len(image) == 0:\n",
    "                image = 0\n",
    "            else:\n",
    "                image = 1\n",
    "        except:\n",
    "            image = 0\n",
    "\n",
    "        name_2 = ''\n",
    "        member_id_2 = ''\n",
    "        star_2 = ''\n",
    "        title_2 = ''\n",
    "        contents_2 = ''\n",
    "        help_2 = ''\n",
    "        date_2 = ''\n",
    "        if(name!='없음'):\n",
    "            name_2=name.text.replace('\\xa0', '')\n",
    "        if(member_id!='없음'):\n",
    "            member_id_2=member_id\n",
    "        if(star!='없음'):\n",
    "            star_2=star\n",
    "        if(title!='없음'):\n",
    "            title_2=title.text.strip().replace('\\n', ' ')\n",
    "        if(contents!='없음'):\n",
    "            contents_2=contents.text.strip().replace('\\n', ' ')\n",
    "        if(help!='없음'):\n",
    "            help_2=help.text\n",
    "        if(date!='없음'):\n",
    "            date_2=date.text\n",
    "        # print([name_2, member_id_2, star_2, title_2, contents_2, help_2, date_2])\n",
    "        \n",
    "        product_reviews.append([name_2, member_id_2, star_2, title_2, contents_2, help_2, date_2, image])\n",
    "    return product_reviews\n",
    "\n",
    "    # except:\n",
    "        # product_reviews = '해당 제품에 대한 리뷰가 없습니다.'\n",
    "        # return product_reviews\n",
    "        "
   ]
  },
  {
   "cell_type": "code",
   "execution_count": 15,
   "id": "d17e0b6b",
   "metadata": {},
   "outputs": [],
   "source": [
    "def crawl_review_star(review_page_cnt):\n",
    "    \n",
    "    # 리뷰 페이지 한 페이지에 5개씩 있음 (페이지 넘기기 구현)\n",
    "    # 페이지 번호에 따라 이전, 다음 버튼의 개수를 고려해야 함\n",
    "    if review_page_cnt % 10 != 0:  \n",
    "        button = review_page_cnt + (review_page_cnt // 10) * 2 + 1  # 페이지 번호가 27까지 있으면 for loop에서 range를 27 + 5 번 돌려야 함\n",
    "    else:\n",
    "        button = review_page_cnt + (review_page_cnt // 10) * 2 - 1 # 페이지 번호가 20까지 있으면 for loop에서 20 + 3 번 돌려야 함\n",
    "    \n",
    "    product_review_all = []\n",
    "    # print(button)\n",
    "    # print(review_page_cnt)\n",
    "    if button == 2:\n",
    "        time.sleep(1)\n",
    "        reviews = driver.find_elements(By.CSS_SELECTOR, '.sdp-review__article__list.js_reviewArticleReviewList')\n",
    "        time.sleep(4)\n",
    "        product_review_all.append(review_data(reviews))\n",
    "        time.sleep(4)\n",
    "        \n",
    "    else:\n",
    "        for i in range(1, button + 1):\n",
    "            # try:\n",
    "                # driver.find_elements(By.CSS_SELECTOR, 'sdp-review__article__no-review.sdp-review__article__no-review--active')\n",
    "            # except:\n",
    "            if i % 12 == 1:  # 이전 버튼\n",
    "                continue\n",
    "            if i % 12 != 0 and i % 12 != 1:\n",
    "                try:\n",
    "                    time.sleep(1)\n",
    "                    driver.find_element(By.XPATH, f'//*[@id=\"btfTab\"]/ul[2]/li[2]/div/div[6]/section[4]/div[3]/button[{i % 12}]').click()\n",
    "                    time.sleep(6)\n",
    "                    reviews = driver.find_elements(By.CSS_SELECTOR, '.sdp-review__article__list.js_reviewArticleReviewList')\n",
    "                    time.sleep(3)\n",
    "                    product_review_all.append(review_data(reviews))\n",
    "                except:\n",
    "                    driver.find_elements(By.XPATH, f'//*[@id=\"btfTab\"]/ul[2]/li[2]/div/div[6]/section[4]/div[3]/button[{i % 12}]')\n",
    "                    time.sleep(5)\n",
    "                    driver.find_element(By.XPATH, f'//*[@id=\"btfTab\"]/ul[2]/li[2]/div/div[6]/section[4]/div[3]/button[{i % 12}]').click()\n",
    "                    time.sleep(5)\n",
    "                    reviews = driver.find_elements(By.CSS_SELECTOR, '.sdp-review__article__list.js_reviewArticleReviewList')\n",
    "                    time.sleep(3)\n",
    "                    product_review_all.append(review_data(reviews))\n",
    "                    # time.sleep(3)\n",
    "            if i % 12 == 0: # 다음 버튼\n",
    "                try:\n",
    "                    driver.find_elements(By.XPATH, f'//*[@id=\"btfTab\"]/ul[2]/li[3]/div/div[6]/section[4]/div[3]/button[{12}]')[0].click()\n",
    "                except:\n",
    "                    driver.find_elements(By.XPATH, f'//*[@id=\"btfTab\"]/ul[2]/li[3]/div/div[6]/section[4]/div[3]/button[{12}]')[0].click()\n",
    "                    time.sleep(0.5)\n",
    "    all_reviews = []\n",
    "    for page in product_review_all:\n",
    "        for review in page:\n",
    "            all_reviews.append(review)\n",
    "    # print(all_reviews)\n",
    "    # driver.close()\n",
    "\n",
    "    if all_reviews == []:\n",
    "        return '해당 제품에 대한 리뷰가 없습니다.'\n",
    "    else:\n",
    "        return all_reviews"
   ]
  },
  {
   "cell_type": "code",
   "execution_count": 16,
   "id": "9a7eab13",
   "metadata": {},
   "outputs": [],
   "source": [
    "# url을 넣으면 좋음, 보통, 별로로 별점을 분류하여 리뷰들을 크롤링해 옴\n",
    "# 리뷰 개수가 가장 적은 카테고리가 '별로'라고 했을 때, 리뷰의 개수가 15개보다 적으면 빈 리스트를 반환한다.\n",
    "# 그리고 url list를 돌렸을 때, 빈 리스트를 가진 해당 데이터를 제외한다.\n",
    "def crawl_star_three_cat(url):    \n",
    "    global driver\n",
    "    driver = webdriver.Chrome()\n",
    "    driver.set_window_size(500, 500)\n",
    "    # time.sleep(2)\n",
    "    driver.get(url)\n",
    "    time.sleep(2)\n",
    "    \n",
    "    min = min_star(url)\n",
    "\n",
    "    # 가장 리뷰 개수가 적은 카테고리에서 리뷰 개수가 15개 이상인 것에서만 코드 실행행\n",
    "    if min[1] >= 15:\n",
    "        driver.find_element(By.XPATH, '//*[@id=\"btfTab\"]/ul[1]/li[2]').click()  # 상품평 클릭\n",
    "        time.sleep(2)\n",
    "        \n",
    "        driver.find_element(By.CSS_SELECTOR, '.sdp-review__article__order__star.js_reviewArticleSearchStarSelectBtn').click()\n",
    "        star_click = []\n",
    "        for i in range(1, 6):\n",
    "            star_click.append(driver.find_element(By.CSS_SELECTOR, '.sdp-review__article__order__star__list__item__count.js_reviewArticleOptionStarCount' + str(i)))\n",
    "        \n",
    "        \n",
    "        if min[0] == '좋음':\n",
    "            star_click[0].click()\n",
    "            review_page_cnt = int(np.ceil(min[1] / 5))\n",
    "            reviews = crawl_review_star(review_page_cnt)\n",
    "            \n",
    "            positive_all = []\n",
    "            for review in reviews:\n",
    "                if (review[3] == '') and (review[4] == ''):\n",
    "                    continue\n",
    "                else:\n",
    "                    positive_all.append(review)\n",
    "\n",
    "            final_min = len(positive_all)\n",
    "\n",
    "            if final_min >= 5:\n",
    "\n",
    "                # final_min을 기준으로 좋음, 별로에 대한 리뷰들도 데이터를 가져온다.\n",
    "                positive = []\n",
    "                soso = []\n",
    "                negative = []\n",
    "                # positive reviews\n",
    "                positive = positive_all\n",
    "                # soso reviews\n",
    "                try:\n",
    "                    driver.find_element(By.CSS_SELECTOR, '.sdp-review__article__order__star__list__item__count.js_reviewArticleOptionStarCount' + str(2)).click()\n",
    "                except:\n",
    "                    driver.find_element(By.CSS_SELECTOR, '.sdp-review__article__order__star.js_reviewArticleSearchStarSelectBtn').click()\n",
    "                    time.sleep(2)\n",
    "                    driver.find_element(By.CSS_SELECTOR, '.sdp-review__article__order__star__list__item__count.js_reviewArticleOptionStarCount' + str(2)).click()\n",
    "                review_page_cnt = int(np.ceil(final_min / 5))\n",
    "                reviews = crawl_review_star(review_page_cnt)\n",
    "        \n",
    "                for review in reviews:\n",
    "                    if (review[3] == '') and (review[4] == ''):\n",
    "                        continue\n",
    "                    else:\n",
    "                        soso.append(review)\n",
    "                # negative reviews\n",
    "                negative_all = []    \n",
    "                for i in range(3, 6):\n",
    "                    driver = webdriver.Chrome()\n",
    "                    driver.set_window_size(500, 500)\n",
    "                    # time.sleep(2)\n",
    "                    driver.get(url)\n",
    "                    time.sleep(2)\n",
    "                    \n",
    "                    driver.find_element(By.XPATH, '//*[@id=\"btfTab\"]/ul[1]/li[2]').click()  # 상품평 클릭\n",
    "                    time.sleep(5)\n",
    "                    \n",
    "                    driver.find_element(By.CSS_SELECTOR, '.sdp-review__article__order__star.js_reviewArticleSearchStarSelectBtn').click()\n",
    "                    time.sleep(3)\n",
    "    \n",
    "                    # 해당 별점 카테고리에 있는 리뷰의 개수를 가져온다.\n",
    "                    driver.find_element(By.CSS_SELECTOR, '.sdp-review__article__order__star__list__item__count.js_reviewArticleOptionStarCount' + str(i))\n",
    "                    time.sleep(3)\n",
    "                    star = driver.find_element(By.CSS_SELECTOR, '.sdp-review__article__order__star__list__item__count.js_reviewArticleOptionStarCount' + str(i))\n",
    "                    time.sleep(3)\n",
    "                    \n",
    "                    count = star.text.replace(',', '')\n",
    "                    counts = int(count)\n",
    "                    \n",
    "                    star.click()\n",
    "                    negative_min_each = int(np.floor(final_min / 3))# 3개를 합쳐야됨\n",
    "                    \n",
    "                    # negative_min_each보다 리뷰의 개수가 적을 수 있기 때문에 경우의 수를 나눈다.\n",
    "                    # 예를 들어, 별 3개, 2개, 1개 각각 10개의 리뷰를 가져와야 하는데 별 2개의 리뷰 개수가 9개인 경우 9개를 기준으로 해야 한다.\n",
    "                    if negative_min_each >= counts:\n",
    "                        review_page_cnt = int(np.ceil(counts / 5))\n",
    "                        reviews = crawl_review_star(review_page_cnt)\n",
    "                    else:\n",
    "                        review_page_cnt = int(np.ceil(negative_min_each / 5))\n",
    "                        reviews = crawl_review_star(review_page_cnt)\n",
    "                    # 리뷰 제목과 리뷰 내용 둘 다 없는 리뷰는 제외하고 가져온다.\n",
    "                    for review in reviews:\n",
    "                        if (review[3] == '') and (review[4] == ''):\n",
    "                            continue\n",
    "                        else:\n",
    "                            negative_all.append(review)\n",
    "                negative = negative_all\n",
    "                driver.close()\n",
    "                return [positive, soso, negative]\n",
    "            else:\n",
    "                return 'None'\n",
    "                \n",
    "            \n",
    "        \n",
    "        elif min[0] == '보통':\n",
    "            star_click[1].click()\n",
    "            review_page_cnt = int(np.ceil(min[1] /5))\n",
    "            reviews = crawl_review_star(review_page_cnt)\n",
    "\n",
    "            soso_all = []\n",
    "            for review in reviews:\n",
    "                if (review[3] == '') and (review[4] == ''):\n",
    "                    continue\n",
    "                else:\n",
    "                    soso_all.append(review)\n",
    "            final_min = len(soso_all)\n",
    "            # print(final_min)\n",
    "            if final_min >= 5:\n",
    "\n",
    "                # final_min을 기준으로 좋음, 별로에 대한 리뷰들도 데이터를 가져온다.\n",
    "                positive = []\n",
    "                soso = []\n",
    "                negative = []\n",
    "                # soso reviews\n",
    "                soso = soso_all\n",
    "                # positive reviews\n",
    "                try:\n",
    "                    driver.find_element(By.CSS_SELECTOR, '.sdp-review__article__order__star__list__item__count.js_reviewArticleOptionStarCount' + str(1)).click()\n",
    "                except:\n",
    "                    driver.find_element(By.CSS_SELECTOR, '.sdp-review__article__order__star.js_reviewArticleSearchStarSelectBtn').click()\n",
    "                    time.sleep(2)\n",
    "                    driver.find_element(By.CSS_SELECTOR, '.sdp-review__article__order__star__list__item__count.js_reviewArticleOptionStarCount' + str(1)).click()\n",
    "                review_page_cnt = int(np.ceil(final_min / 5))\n",
    "                reviews = crawl_review_star(review_page_cnt)\n",
    "        \n",
    "                for review in reviews:\n",
    "                    if (review[3] == '') and (review[4] == ''):\n",
    "                        continue\n",
    "                    else:\n",
    "                        positive.append(review)\n",
    "                # negative reviews\n",
    "                negative_all = []    \n",
    "                for i in range(3, 6):\n",
    "                    driver = webdriver.Chrome()\n",
    "                    driver.set_window_size(500, 500)\n",
    "                    # time.sleep(2)\n",
    "                    driver.get(url)\n",
    "                    time.sleep(2)\n",
    "                    \n",
    "                    driver.find_element(By.XPATH, '//*[@id=\"btfTab\"]/ul[1]/li[2]').click()  # 상품평 클릭\n",
    "                    time.sleep(5)\n",
    "                    \n",
    "                    driver.find_element(By.CSS_SELECTOR, '.sdp-review__article__order__star.js_reviewArticleSearchStarSelectBtn').click()\n",
    "                    time.sleep(3)\n",
    "    \n",
    "                    # 해당 별점 카테고리에 있는 리뷰의 개수를 가져온다.\n",
    "                    star = driver.find_element(By.CSS_SELECTOR, '.sdp-review__article__order__star__list__item__count.js_reviewArticleOptionStarCount' + str(i))\n",
    "                    time.sleep(3)\n",
    "                    \n",
    "                    count = star.text.replace(',', '')\n",
    "                    counts = int(count)\n",
    "                    # print(counts)\n",
    "                    star.click()\n",
    "                    negative_min_each = int(np.floor(final_min / 3))# 3개를 합쳐야됨\n",
    "                    # print(negative_min_each)\n",
    "                    # negative_min_each보다 리뷰의 개수가 적을 수 있기 때문에 경우의 수를 나눈다.\n",
    "                    # 예를 들어, 별 3개, 2개, 1개 각각 10개의 리뷰를 가져와야 하는데 별 2개의 리뷰 개수가 9개인 경우 9개를 기준으로 해야 한다.\n",
    "                    if negative_min_each >= counts:\n",
    "                        review_page_cnt = int(np.ceil(counts / 5))\n",
    "                        reviews = crawl_review_star(review_page_cnt)\n",
    "                    else:\n",
    "                        review_page_cnt = int(np.ceil(negative_min_each / 5))\n",
    "                        reviews = crawl_review_star(review_page_cnt)\n",
    "                    # 리뷰 제목과 리뷰 내용 둘 다 없는 리뷰는 제외하고 가져온다.\n",
    "                    for review in reviews:\n",
    "                        if (review[3] == '') and (review[4] == ''):\n",
    "                            continue\n",
    "                        else:\n",
    "                            negative_all.append(review)\n",
    "                negative = negative_all\n",
    "                driver.close()\n",
    "                return [positive, soso, negative]\n",
    "            else:\n",
    "                return 'None'\n",
    "\n",
    "        \n",
    "        elif min[0] == '별로':\n",
    "            negative_all = []    \n",
    "            for i in range(3, 6):\n",
    "                driver = webdriver.Chrome()\n",
    "                driver.set_window_size(500, 500)\n",
    "                # time.sleep(2)\n",
    "                driver.get(url)\n",
    "                time.sleep(2)\n",
    "                \n",
    "                driver.find_element(By.XPATH, '//*[@id=\"btfTab\"]/ul[1]/li[2]').click()  # 상품평 클릭\n",
    "                time.sleep(5)\n",
    "                \n",
    "                driver.find_element(By.CSS_SELECTOR, '.sdp-review__article__order__star.js_reviewArticleSearchStarSelectBtn').click()\n",
    "                time.sleep(3)\n",
    "\n",
    "                # 해당 별점 카테고리에 있는 리뷰의 개수를 가져온다.\n",
    "                \n",
    "                star = driver.find_element(By.CSS_SELECTOR, '.sdp-review__article__order__star__list__item__count.js_reviewArticleOptionStarCount' + str(i))\n",
    "                time.sleep(3)\n",
    "\n",
    "                \n",
    "                count = star.text.replace(',', '')\n",
    "                counts = int(count)\n",
    "                \n",
    "                star.click()\n",
    "                negative_min_each = int(np.floor(min[1] / 3))# 3개를 합쳐야됨\n",
    "                \n",
    "                # negative_min_each보다 리뷰의 개수가 적을 수 있기 때문에 경우의 수를 나눈다.\n",
    "                # 예를 들어, 별 3개, 2개, 1개 각각 10개의 리뷰를 가져와야 하는데 별 2개의 리뷰 개수가 9개인 경우 9개를 기준으로 해야 한다.\n",
    "                if negative_min_each >= counts:\n",
    "                    review_page_cnt = int(np.ceil(counts / 5))\n",
    "                    reviews = crawl_review_star(review_page_cnt)\n",
    "                else:\n",
    "                    review_page_cnt = int(np.ceil(negative_min_each / 5))\n",
    "                    reviews = crawl_review_star(review_page_cnt)\n",
    "\n",
    "                # 리뷰 제목과 리뷰 내용 둘 다 없는 리뷰는 제외하고 가져온다.\n",
    "                for review in reviews:\n",
    "                    if (review[3] == '') and (review[4] == ''):\n",
    "                        continue\n",
    "                    else:\n",
    "                        negative_all.append(review)\n",
    "                        \n",
    "            # 별점만 있는 리뷰를 제외한 부정 리뷰 데이터 최종 개수\n",
    "            final_min = len(negative_all)\n",
    "\n",
    "            if final_min > 5:\n",
    "            \n",
    "                # final_min을 기준으로 좋음, 보통에 대한 리뷰들도 데이터를 가져온다.\n",
    "                positive = []\n",
    "                soso = []\n",
    "                negative = []\n",
    "                # negative reviews\n",
    "                negative = negative_all\n",
    "                # positive \n",
    "                try:\n",
    "                    driver.find_element(By.CSS_SELECTOR, '.sdp-review__article__order__star__list__item__count.js_reviewArticleOptionStarCount' + str(1)).click()\n",
    "                except:\n",
    "                    driver.find_element(By.CSS_SELECTOR, '.sdp-review__article__order__star.js_reviewArticleSearchStarSelectBtn').click()\n",
    "                    time.sleep(2)\n",
    "                    driver.find_element(By.CSS_SELECTOR, '.sdp-review__article__order__star__list__item__count.js_reviewArticleOptionStarCount' + str(1)).click()\n",
    "                review_page_cnt = int(np.ceil(final_min / 5))\n",
    "                reviews = crawl_review_star(review_page_cnt)\n",
    "            \n",
    "                for review in reviews:\n",
    "                    if (review[3] == '') and (review[4] == ''):\n",
    "                        continue\n",
    "                    else:\n",
    "                        positive.append(review)\n",
    "                # soso reviews\n",
    "                try:\n",
    "                    driver.find_element(By.CSS_SELECTOR, '.sdp-review__article__order__star__list__item__count.js_reviewArticleOptionStarCount' + str(2)).click()\n",
    "                except:\n",
    "                    driver.find_element(By.XPATH, '//*[@id=\"btfTab\"]/ul[1]/li[2]').click()  # 상품평 클릭\n",
    "                    time.sleep(2)\n",
    "                    \n",
    "                    driver.find_element(By.CSS_SELECTOR, '.sdp-review__article__order__star.js_reviewArticleSearchStarSelectBtn').click()\n",
    "                    time.sleep(2)\n",
    "                    driver.find_element(By.CSS_SELECTOR, '.sdp-review__article__order__star__list__item__count.js_reviewArticleOptionStarCount' + str(2)).click()\n",
    "                review_page_cnt = int(np.ceil(final_min / 5))\n",
    "                reviews = crawl_review_star(review_page_cnt)\n",
    "        \n",
    "                for review in reviews:\n",
    "                    if (review[3] == '') and (review[4] == ''):\n",
    "                        continue\n",
    "                    else:\n",
    "                        soso.append(review)\n",
    "                # print(len(positive))\n",
    "                # print(len(soso))\n",
    "                # print(len(negative))\n",
    "                driver.close()\n",
    "                return [positive, soso, negative]\n",
    "            else:\n",
    "                return 'None'\n",
    "    else:\n",
    "        return 'None'  # 리뷰 개수가 적을 때 None 반환"
   ]
  },
  {
   "cell_type": "code",
   "execution_count": 17,
   "id": "b540051d",
   "metadata": {},
   "outputs": [],
   "source": [
    "def review(csv):   # csv에는 카테고리별로 생성된 \n",
    "    review = csv\n",
    "    review = review[review['리뷰 개수'] >= 45].reset_index()\n",
    "    \n",
    "    all = pd.DataFrame()\n",
    "    categories = review['카테고리2'].drop_duplicates().reset_index()\n",
    "    for i in range(len(categories)):\n",
    "        category = review[review['카테고리2'] == categories.loc[i][1]][:15]\n",
    "        all = pd.concat([all, category])\n",
    "    all = all.reset_index()\n",
    "    review = all\n",
    "    \n",
    "    review_list = []\n",
    "    p_review_counts = []\n",
    "    s_review_counts = []\n",
    "    n_review_counts = []\n",
    "    for i in range(len(review)):\n",
    "        review_list.append([])\n",
    "        p_review_counts.append([])\n",
    "        s_review_counts.append([])\n",
    "        n_review_counts.append([])\n",
    "    i = 0\n",
    "    for url in fashion_products_review.loc[:]['제품 url']:\n",
    "        print(i, url)\n",
    "        crawl = crawl_star_three_cat(url)\n",
    "        review_list[i] = crawl\n",
    "        if crawl == 'None':\n",
    "            i += 1\n",
    "            continue\n",
    "        else:\n",
    "            positive = len(crawl[0])\n",
    "            soso = len(crawl[1])\n",
    "            negative = len(crawl[2])\n",
    "            p_review_counts[i] = positive\n",
    "            s_review_counts[i] = soso\n",
    "            n_review_counts[i] = negative\n",
    "        i += 1\n",
    "    review['리뷰'] = review_list\n",
    "    review['리뷰(좋음)'] = p_review_counts\n",
    "    review['리뷰(보통)'] = s_review_counts\n",
    "    review['리뷰(별로)'] = n_review_counts\n",
    "    \n",
    "    drop_duplicates = review.drop_duplicates(['리뷰'], keep='first')\n",
    "    total_review = drop_duplicates[drop_duplicates['리뷰'] != 'None']\n",
    "\n",
    "    total_review = total_review[total_review['리뷰'] != '[]']\n",
    "    total_review = total_review[total_review['리뷰(좋음)'].notnull()]\n",
    "    return total_review"
   ]
  },
  {
   "cell_type": "code",
   "execution_count": 18,
   "id": "4ddd2ac6",
   "metadata": {},
   "outputs": [],
   "source": [
    "# file_dir='/coupang_data/products/'\n",
    "# file_name='products_list_'+cal_std_day(1)+'.csv'\n",
    "# products = spark.read.csv(file_dir+file_name)\n",
    "# products.show()"
   ]
  },
  {
   "cell_type": "markdown",
   "id": "de660bc0",
   "metadata": {},
   "source": [
    "## 1. 원본 파일"
   ]
  },
  {
   "cell_type": "code",
   "execution_count": 19,
   "id": "39f4e81e-4a0e-4d9b-bbbb-ba31965b305a",
   "metadata": {},
   "outputs": [
    {
     "name": "stdout",
     "output_type": "stream",
     "text": [
      "+---+-----------+------------------+--------------------+-----------------------------------+--------------------+----------+--------------+-------------------------+--------------------------------+---------------------------------+---------------------------------+\n",
      "|_c0|  category1|         category2|        category_url|                       product_name|         product_url|review_cnt|product_rating|                   review|                     review_good|                      review_soso|                       review_bad|\n",
      "+---+-----------+------------------+--------------------+-----------------------------------+--------------------+----------+--------------+-------------------------+--------------------------------+---------------------------------+---------------------------------+\n",
      "|  0|출산/유아동|         수유용품 |http://www.coupan...|      그로미미 PPSU 젖병 트윈팩,...|http://www.coupan...|      1978|           5.0|\"[[['리뷰호랭이 ', '65...| 유니콘처럼 완벽하진 않아요.\"...|  그게 좀 아쉽다면 다른 옵션도...|  준비된 엄마라면 문제없겠죠? ...|\n",
      "|  1|출산/유아동|         수유용품 |http://www.coupan...| 매일유업 앱솔루트 액상분유 니플...|http://www.coupan...|       957|           4.5|   \"[[['김*아 ', '1217...|                             '9'|                     '2019.05.24'|                               0]|\n",
      "|  2|출산/유아동|         수유용품 |http://www.coupan...|   마더케이 일회용젖병 + 블럭 케...|http://www.coupan...|      1619|           5.0|   \"[[['박*슬 ', '1177...|                             '9'|                     '2023.11.28'|                               1]|\n",
      "|  3|출산/유아동|         수유용품 |http://www.coupan...|     모윰 스마트 분유 보온병 500...|http://www.coupan...|       622|           4.5|   [[['권*현 ', '40157...|                              15|                               11|                               15|\n",
      "|  4|출산/유아동|         수유용품 |http://www.coupan...|        모윰 PPSU 올인원 젖병 17...|http://www.coupan...|      3420|           5.0|   [[['김*아 ', '10956...|                              45|                               45|                               45|\n",
      "|  5|출산/유아동|         수유용품 |http://www.coupan...|      마더케이 노꼭지 젖병 250ml...|http://www.coupan...|      2323|           4.5| \"[[['리뷰쿠친 ', '934...|   젖병 2개 방법:젖병 열어서 ...|       2회 동일) . . 일회용 젖...|    비닐팩 2개(집게 찝고 혹시 ...|\n",
      "|  6|출산/유아동|이유용품/유아식기 |http://www.coupan...|   도호 디보나 유아 식기세트, 다...|http://www.coupan...|       667|           4.5|   \"[[['최*규 ', '1268...|                              ''|                     '2024.01.05'|                               1]|\n",
      "|  7|출산/유아동|이유용품/유아식기 |http://www.coupan...|  에디슨 스스로 실리콘 흡착 식판...|http://www.coupan...|      1167|           5.0|   [[['박*영 ', '33779...|                              10|                               10|                                9|\n",
      "|  8|출산/유아동|이유용품/유아식기 |http://www.coupan...|  모윰 유아용 애플피치 치발기 과...|http://www.coupan...|       569|           5.0|\"[[['튼튼한아이 ', '22...|                             '1'|                     '2022.06.05'|                              1]]|\n",
      "|  9|출산/유아동|이유용품/유아식기 |http://www.coupan...|피노키오 원목 유아 식탁의자, 베이지|http://www.coupan...|       300|           5.0|   \"[[['박*명 ', '3992...|                            '10'|                     '2021.12.05'|                               0]|\n",
      "| 10|출산/유아동|이유용품/유아식기 |http://www.coupan...|    릿첼 AQ 외출용 드링킹머그컵 ...|http://www.coupan...|      1357|           5.0|   [[['김*수 ', '11922...|                              25|                               25|                               24|\n",
      "| 11|출산/유아동|이유용품/유아식기 |http://www.coupan...|  모슈 보온보냉 라떼 죽통 푸드자...|http://www.coupan...|      1379|           4.5|   \"[[['허*영 ', '1148...|                            '58'|                     '2023.03.24'|                               1]|\n",
      "| 12|출산/유아동|    매트/안전용품 |http://www.coupan...| 충무몰 파인포레스트 양면쿠션 거...|http://www.coupan...|       242|           4.5|   \"[[['최*화 ', '1496...|                        싫어하고|짜증내고 그래서 거실을 맘껏 활...|양면사용 가능 장점  국내생산인...|\n",
      "| 13|출산/유아동|    매트/안전용품 |http://www.coupan...| 리빙코디 다용도 복도형 리빙매트...|http://www.coupan...|      5428|           4.5| \"[[['앙블리잉v ', '11...|                              ''|                     '2024.01.10'|                               1]|\n",
      "| 14|출산/유아동|    매트/안전용품 |http://www.coupan...|  베베리쉬 유아용 모던 폴더매트 ...|http://www.coupan...|      1475|           5.0|   \"[[['황*진 ', '6399...|                            '13'|                     '2019.09.13'|                               1]|\n",
      "| 15|출산/유아동|    매트/안전용품 |http://www.coupan...|   롤베이비 착한 폴더매트, 아이보리|http://www.coupan...|      1790|           5.0|[[['상큼한미소 ', '113...|                              30|                               30|                               27|\n",
      "| 16|출산/유아동|    매트/안전용품 |http://www.coupan...|     에듀플레이 굿 베이비룸 10p ...|http://www.coupan...|       584|           5.0|   [[['윤*정 ', '64215...|                              15|                               15|                               12|\n",
      "| 17|출산/유아동|    매트/안전용품 |http://www.coupan...|   프로비 유아 놀이방매트, 리틀 ...|http://www.coupan...|      3386|           4.0|   \"[[['블랙Ck ', '118...|                            '13'|                     '2022.10.10'|                               1]|\n",
      "| 18|출산/유아동|    매트/안전용품 |http://www.coupan...| 시온넷 계단 논슬립 미끄럼방지패...|http://www.coupan...|       399|           4.5|[[['월요일이네 ', '560...|                              10|                               10|                               10|\n",
      "| 19|출산/유아동|    매트/안전용품 |http://www.coupan...|파크론 웰빙 놀이방 매트, 오렌지레몬|http://www.coupan...|       822|           4.5|   [[['이*기 ', '72809...|                              35|                               35|                               34|\n",
      "+---+-----------+------------------+--------------------+-----------------------------------+--------------------+----------+--------------+-------------------------+--------------------------------+---------------------------------+---------------------------------+\n",
      "only showing top 20 rows\n",
      "\n"
     ]
    }
   ],
   "source": [
    "# 완전 원본 파일(상품 + 리뷰 데이터)\n",
    "raw_data = spark.read.option(\"header\", \"true\").csv('/final/total_data_ver2.csv')\n",
    "raw_data.show()"
   ]
  },
  {
   "cell_type": "code",
   "execution_count": 20,
   "id": "69d247c1",
   "metadata": {},
   "outputs": [
    {
     "data": {
      "text/plain": [
       "['_c0',\n",
       " 'category1',\n",
       " 'category2',\n",
       " 'category_url',\n",
       " 'product_name',\n",
       " 'product_url',\n",
       " 'review_cnt',\n",
       " 'product_rating',\n",
       " 'review',\n",
       " 'review_good',\n",
       " 'review_soso',\n",
       " 'review_bad']"
      ]
     },
     "execution_count": 20,
     "metadata": {},
     "output_type": "execute_result"
    }
   ],
   "source": [
    "raw_data.columns"
   ]
  },
  {
   "cell_type": "code",
   "execution_count": 21,
   "id": "72ee0cdc-749f-4637-92b3-0f677449c6cb",
   "metadata": {},
   "outputs": [
    {
     "name": "stdout",
     "output_type": "stream",
     "text": [
      "root\n",
      " |-- _c0: string (nullable = true)\n",
      " |-- category1: string (nullable = true)\n",
      " |-- category2: string (nullable = true)\n",
      " |-- category_url: string (nullable = true)\n",
      " |-- product_name: string (nullable = true)\n",
      " |-- product_url: string (nullable = true)\n",
      " |-- review_cnt: string (nullable = true)\n",
      " |-- product_rating: string (nullable = true)\n",
      " |-- review: string (nullable = true)\n",
      " |-- review_good: string (nullable = true)\n",
      " |-- review_soso: string (nullable = true)\n",
      " |-- review_bad: string (nullable = true)\n",
      "\n"
     ]
    }
   ],
   "source": [
    "raw_data.printSchema()"
   ]
  },
  {
   "cell_type": "markdown",
   "id": "ffd8e891",
   "metadata": {},
   "source": [
    "## 2. 전체 상품 데이터"
   ]
  },
  {
   "cell_type": "code",
   "execution_count": 54,
   "id": "c90aca31",
   "metadata": {},
   "outputs": [
    {
     "name": "stdout",
     "output_type": "stream",
     "text": [
      "+-----------+-----------+--------------------+----------------------------------+--------------------+------------+--------------+\n",
      "|  category1|  category2|        category_url|                      product_name|         product_url|review_count|product_rating|\n",
      "+-----------+-----------+--------------------+----------------------------------+--------------------+------------+--------------+\n",
      "|출산/유아동|유아동패션 |http://www.coupan...|     꼰띠키즈 여아용 다이어리 데님|http://www.coupan...|          42|           4.5|\n",
      "|출산/유아동|유아동패션 |http://www.coupan...| 시나모롤 큐티 소풍가방 어린이 ...|http://www.coupan...|         121|           5.0|\n",
      "|출산/유아동|유아동패션 |http://www.coupan...|    휠라 아동용 꾸미 라이트 PT ...|http://www.coupan...|        2089|           5.0|\n",
      "|출산/유아동|유아동패션 |http://www.coupan...|   휠라 아동용 커블렛 운동화 2....|http://www.coupan...|         109|           5.0|\n",
      "|출산/유아동|유아동패션 |http://www.coupan...|     이설한복 50001 그린지호 남...|http://www.coupan...|           3|           5.0|\n",
      "|출산/유아동|유아동패션 |http://www.coupan...|          초코몽 아동용 메이슨데님|http://www.coupan...|         857|           4.5|\n",
      "|출산/유아동|유아동패션 |http://www.coupan...| 유니프랜드 여아용 샤벳 드로즈 ...|http://www.coupan...|           2|           5.0|\n",
      "|출산/유아동|유아동패션 |http://www.coupan...|             꼰띠키즈 포텐데님팬츠|http://www.coupan...|          22|           5.0|\n",
      "|출산/유아동|유아동패션 |http://www.coupan...|   더예한복 여아용 363 단아소예...|http://www.coupan...|         450|           5.0|\n",
      "|출산/유아동|유아동패션 |http://www.coupan...|쿠로미 경량 책가방세트 초등학생...|http://www.coupan...|         116|           5.0|\n",
      "|출산/유아동|유아동패션 |http://www.coupan...|  키즈라인 남아용 스타쥬라기 30...|http://www.coupan...|         135|           4.5|\n",
      "|출산/유아동|유아동패션 |http://www.coupan...| 롤리트리 아동 폴리스판 피치 부...|http://www.coupan...|          99|           5.0|\n",
      "|출산/유아동|유아동패션 |http://www.coupan...| 팬콧 아동용 초등학생 수영복 래...|http://www.coupan...|          69|           4.5|\n",
      "|출산/유아동|유아동패션 |http://www.coupan...|  TR테디베어 아동용 솔리드 중목...|http://www.coupan...|         118|           5.0|\n",
      "|출산/유아동|유아동패션 |http://www.coupan...|롤리트리 자외선차단 호루라기 와...|http://www.coupan...|         904|           5.0|\n",
      "|출산/유아동|유아동패션 |http://www.coupan...|스콕스 여아용 담비 드로즈 5종 세트|http://www.coupan...|         869|           5.0|\n",
      "|출산/유아동|유아동패션 |http://www.coupan...|헤지스키즈 여아용 니트 스니커즈...|http://www.coupan...|           6|           5.0|\n",
      "|출산/유아동|유아동패션 |http://www.coupan...|   더예한복 여아용 355 아린색동...|http://www.coupan...|         389|           4.5|\n",
      "|출산/유아동|유아동패션 |http://www.coupan...| 스콕스 여아용 판타지아 사각 드...|http://www.coupan...|         869|           5.0|\n",
      "|출산/유아동|유아동패션 |http://www.coupan...|코코릭 유아동 와이드렌즈 물안경...|http://www.coupan...|        4280|           5.0|\n",
      "+-----------+-----------+--------------------+----------------------------------+--------------------+------------+--------------+\n",
      "only showing top 20 rows\n",
      "\n"
     ]
    }
   ],
   "source": [
    "products = spark.read.option(\"header\", \"true\").csv('/final/products_total.csv')\n",
    "products.show()"
   ]
  },
  {
   "cell_type": "code",
   "execution_count": 23,
   "id": "0a98c508",
   "metadata": {},
   "outputs": [
    {
     "data": {
      "text/plain": [
       "['category1',\n",
       " 'category2',\n",
       " 'category_url',\n",
       " 'product_name',\n",
       " 'product_url',\n",
       " 'review_count',\n",
       " 'product_rating']"
      ]
     },
     "execution_count": 23,
     "metadata": {},
     "output_type": "execute_result"
    }
   ],
   "source": [
    "products.columns"
   ]
  },
  {
   "cell_type": "markdown",
   "id": "1e466d19",
   "metadata": {},
   "source": [
    "## 3. 리뷰 데이터 펼친 csv 파일에 test용 10명 리뷰 데이터 추가(멤버 id로 구분)"
   ]
  },
  {
   "cell_type": "code",
   "execution_count": 63,
   "id": "77bb242f",
   "metadata": {},
   "outputs": [
    {
     "name": "stdout",
     "output_type": "stream",
     "text": [
      "+-------------+------------------+----------------------------------+-----------+----------+-------------+------+-------+----+----+--------------------------------+\n",
      "|    category1|         category2|                      product_name|product_url|rating_cnt|reviewer_name|userid|ratings|help|date|                 review_contents|\n",
      "+-------------+------------------+----------------------------------+-----------+----------+-------------+------+-------+----+----+--------------------------------+\n",
      "|헬스/건강식품|  곤약/방탄커피 외|          국내산 시금치, 200g, 1개|       None|      None|         None| cust1|      3|None|None|  아삭해요~◈ 제품명 : 국내산 ...|\n",
      "|     결혼준비|          주방용품|  리한 오뚝이 롤리 주걱, 화이트...|       None|      None|         None| cust1|      3|None|None|위생적이고 엄청 편해요~◈ 제품...|\n",
      "|헬스/건강식품|  곤약/방탄커피 외|              밀양 깻잎, 100g, 1개|       None|      None|         None| cust1|      3|None|None|  향이 좋아요~◈ 제품명 : 밀양...|\n",
      "|         식품|              채소|         국내산 양배추, 1개입, 1개|       None|      None|         None| cust1|      3|None|None|  달콤해요~◈ 제품명 : 국내산 ...|\n",
      "|헬스/건강식품|  곤약/방탄커피 외|            국내산 부추, 300g, 1개|       None|      None|         None| cust1|      3|None|None| 파릇파릇해요~◈ 제품명 : 국내...|\n",
      "|         식품|              채소|                   감자, 500g, 1개|       None|      None|         None| cust1|      3|None|None|   고소해요~◈ 제품명 : 감자, ...|\n",
      "|   싱글라이프| 반찬/간편조리식품|          국내산 깐쪽파, 200g, 1개|       None|      None|         None| cust1|      3|None|None|적당히 알싸하고 맛있어요~◈ 제...|\n",
      "|    아트/공예|     데코/포장용품| 산리오캐릭터즈 롤 색칠스티커 2...|       None|      None|         None| cust1|      3|None|None|아이들이 너무 좋아해요~◈ 제품...|\n",
      "|     주방용품|     냄비/프라이팬| 휘슬러 인덕션 레비탈 플러스 컴...|       None|      None|         None| cust1|      3|None|None|최고의 논스틱 코팅팬~◈ 제품명...|\n",
      "|       홈카페|         원두/커피|돌체구스토 리스트레토 아덴자 캡...|       None|      None|         None| cust1|      3|None|None| 고소해요~◈ 제품명 : 돌체구스...|\n",
      "|         식품|         생수/음료|    솔리몬 스퀴즈드 레몬즙, 990...|       None|      None|         None| cust1|      3|None|None| 새콤하고 상큼해요~◈ 제품명 :...|\n",
      "|         식품|           쌀/잡곡|    임금님표 이천쌀 특등급, 10k...|       None|      None|         None| cust1|      3|None|None|  쌀은 역시 이천쌀~◈ 제품명 :...|\n",
      "|     생활용품|          생활잡화| 에펠 가정용 진공포장기 비닐팩 ...|       None|      None|         None| cust1|      3|None|None| 두껍고 압축 잘 돼요~◈ 제품명...|\n",
      "|         식품|              과일|    곰곰 세척 사과, 2kg박스, 1박스|       None|      None|         None| cust1|      3|None|None| 새콤하니 맛있어요~◈ 제품명 :...|\n",
      "|         식품|              채소|           GAP 팽이버섯, 450g, 1개|       None|      None|         None| cust1|      3|None|None|쫄깃하고 식감이 너무 좋아요~◈...|\n",
      "|헬스/건강식품|  곤약/방탄커피 외|            곰곰 시금치, 300g, 1개|       None|      None|         None| cust1|      3|None|None|향긋하고 아주 싱싱해요~◈ 제품...|\n",
      "|헬스/건강식품|  곤약/방탄커피 외|       곰곰 우리콩 두부, 550g, 3팩|       None|      None|         None| cust1|      3|None|None|단단하고 부드러워요~◈ 제품명 ...|\n",
      "|         식품|반찬/간편식/대용식|    일가 비타 와사비쌈무, 3kg, 1개|       None|      None|         None| cust1|      3|None|None| 아삭아삭 새콤해요~◈ 제품명 :...|\n",
      "|   싱글라이프|     샐러드/시리얼|     곰곰 국내산 청양고추, 300g...|       None|      None|         None| cust1|      3|None|None|질기지 않고 맛있어요~◈ 제품명...|\n",
      "|헬스/건강식품|  곤약/방탄커피 외|    일가집 비타 김밥단무지, 350...|       None|      None|         None| cust1|      3|None|None| 새콤달콤 아삭해요~◈ 제품명 :...|\n",
      "+-------------+------------------+----------------------------------+-----------+----------+-------------+------+-------+----+----+--------------------------------+\n",
      "only showing top 20 rows\n",
      "\n"
     ]
    }
   ],
   "source": [
    "customers = spark.read.option(\"delimiter\", \"+\").option(\"lineSep\", \"@\").option(\"header\", \"true\").option(\"quote\", \"\\\"\").csv('/final/reviews_total.csv')\n",
    "customers.show()"
   ]
  },
  {
   "cell_type": "code",
   "execution_count": 25,
   "id": "402e2fb7",
   "metadata": {},
   "outputs": [
    {
     "name": "stdout",
     "output_type": "stream",
     "text": [
      "Defaulting to user installation because normal site-packages is not writeable\n",
      "Requirement already satisfied: pymysql in /home/lab04/.local/lib/python3.6/site-packages (1.0.2)\n"
     ]
    }
   ],
   "source": [
    "!pip install pymysql"
   ]
  },
  {
   "cell_type": "code",
   "execution_count": 1,
   "id": "f02f358e",
   "metadata": {},
   "outputs": [
    {
     "name": "stderr",
     "output_type": "stream",
     "text": [
      "/home/lab04/.local/lib/python3.6/site-packages/pymysql/_auth.py:8: CryptographyDeprecationWarning: Python 3.6 is no longer supported by the Python core team. Therefore, support for it is deprecated in cryptography and will be removed in a future release.\n",
      "  from cryptography.hazmat.backends import default_backend\n"
     ]
    }
   ],
   "source": [
    "from datetime import date, datetime\n",
    "from pyspark.sql.types import *\n",
    "from pyspark.sql.functions import *\n",
    "from pyspark.sql import *\n",
    "import datetime as dt\n",
    "import pandas as pd\n",
    "import matplotlib.pyplot as plt #그래프 패키지 모듈 등록\n",
    "%matplotlib inline \n",
    "import pymysql"
   ]
  },
  {
   "cell_type": "code",
   "execution_count": 2,
   "id": "c7c93799",
   "metadata": {},
   "outputs": [],
   "source": [
    "JDBC = {\n",
    "      'url':'jdbc:mysql://localhost:3306/final_project?characterEncoding=utf8&serverTimezone=Asia/Seoul'\n",
    "     ,'props':{\n",
    "      'user':'bigMysql',\n",
    "      'password':'bigMysql1234@'   \n",
    "      }\n",
    "}\n",
    "conf_dm = {\n",
    "      'url':'jdbc:mysql://localhost:3306/final_project_DM?characterEncoding=utf8&serverTimezone=Asia/Seoul'\n",
    "     ,'props':{\n",
    "      'user':'bigDM',\n",
    "      'password':'bigDM1234@'   \n",
    "      }\n",
    "}"
   ]
  },
  {
   "cell_type": "code",
   "execution_count": 9,
   "id": "785ddae4",
   "metadata": {},
   "outputs": [],
   "source": [
    "raw_data = spark.read.option(\"header\", \"true\").csv('/final/total_data_ver2.csv')\n",
    "products = spark.read.option(\"header\", \"true\").csv('/final/products_total.csv')\n",
    "customers = spark.read.option(\"delimiter\", \"+\").option(\"lineSep\", \"@\").option(\"header\", \"true\").option(\"quote\", \"\\\"\").csv('/final/reviews_total.csv')"
   ]
  },
  {
   "cell_type": "code",
   "execution_count": 11,
   "id": "ef016612",
   "metadata": {},
   "outputs": [],
   "source": [
    "products.createOrReplaceTempView('products')\n",
    "customers.createOrReplaceTempView('customers')"
   ]
  },
  {
   "cell_type": "code",
   "execution_count": 13,
   "id": "14f243bf",
   "metadata": {},
   "outputs": [
    {
     "name": "stdout",
     "output_type": "stream",
     "text": [
      "+-----------+-----------+--------------------+----------------------------------+--------------------+------------+--------------+\n",
      "|  category1|  category2|        category_url|                      product_name|         product_url|review_count|product_rating|\n",
      "+-----------+-----------+--------------------+----------------------------------+--------------------+------------+--------------+\n",
      "|출산/유아동|유아동패션 |http://www.coupan...|     꼰띠키즈 여아용 다이어리 데님|http://www.coupan...|          42|           4.5|\n",
      "|출산/유아동|유아동패션 |http://www.coupan...| 시나모롤 큐티 소풍가방 어린이 ...|http://www.coupan...|         121|           5.0|\n",
      "|출산/유아동|유아동패션 |http://www.coupan...|    휠라 아동용 꾸미 라이트 PT ...|http://www.coupan...|        2089|           5.0|\n",
      "|출산/유아동|유아동패션 |http://www.coupan...|   휠라 아동용 커블렛 운동화 2....|http://www.coupan...|         109|           5.0|\n",
      "|출산/유아동|유아동패션 |http://www.coupan...|     이설한복 50001 그린지호 남...|http://www.coupan...|           3|           5.0|\n",
      "|출산/유아동|유아동패션 |http://www.coupan...|          초코몽 아동용 메이슨데님|http://www.coupan...|         857|           4.5|\n",
      "|출산/유아동|유아동패션 |http://www.coupan...| 유니프랜드 여아용 샤벳 드로즈 ...|http://www.coupan...|           2|           5.0|\n",
      "|출산/유아동|유아동패션 |http://www.coupan...|             꼰띠키즈 포텐데님팬츠|http://www.coupan...|          22|           5.0|\n",
      "|출산/유아동|유아동패션 |http://www.coupan...|   더예한복 여아용 363 단아소예...|http://www.coupan...|         450|           5.0|\n",
      "|출산/유아동|유아동패션 |http://www.coupan...|쿠로미 경량 책가방세트 초등학생...|http://www.coupan...|         116|           5.0|\n",
      "|출산/유아동|유아동패션 |http://www.coupan...|  키즈라인 남아용 스타쥬라기 30...|http://www.coupan...|         135|           4.5|\n",
      "|출산/유아동|유아동패션 |http://www.coupan...| 롤리트리 아동 폴리스판 피치 부...|http://www.coupan...|          99|           5.0|\n",
      "|출산/유아동|유아동패션 |http://www.coupan...| 팬콧 아동용 초등학생 수영복 래...|http://www.coupan...|          69|           4.5|\n",
      "|출산/유아동|유아동패션 |http://www.coupan...|  TR테디베어 아동용 솔리드 중목...|http://www.coupan...|         118|           5.0|\n",
      "|출산/유아동|유아동패션 |http://www.coupan...|롤리트리 자외선차단 호루라기 와...|http://www.coupan...|         904|           5.0|\n",
      "|출산/유아동|유아동패션 |http://www.coupan...|스콕스 여아용 담비 드로즈 5종 세트|http://www.coupan...|         869|           5.0|\n",
      "|출산/유아동|유아동패션 |http://www.coupan...|헤지스키즈 여아용 니트 스니커즈...|http://www.coupan...|           6|           5.0|\n",
      "|출산/유아동|유아동패션 |http://www.coupan...|   더예한복 여아용 355 아린색동...|http://www.coupan...|         389|           4.5|\n",
      "|출산/유아동|유아동패션 |http://www.coupan...| 스콕스 여아용 판타지아 사각 드...|http://www.coupan...|         869|           5.0|\n",
      "|출산/유아동|유아동패션 |http://www.coupan...|코코릭 유아동 와이드렌즈 물안경...|http://www.coupan...|        4280|           5.0|\n",
      "+-----------+-----------+--------------------+----------------------------------+--------------------+------------+--------------+\n",
      "only showing top 20 rows\n",
      "\n"
     ]
    }
   ],
   "source": [
    "products.show()"
   ]
  },
  {
   "cell_type": "code",
   "execution_count": 6,
   "id": "479625fd",
   "metadata": {},
   "outputs": [],
   "source": [
    "from pyspark.sql.functions import monotonically_increasing_id\n",
    "products = products.withColumn('product_id', monotonically_increasing_id())"
   ]
  },
  {
   "cell_type": "code",
   "execution_count": 7,
   "id": "af0149bd",
   "metadata": {},
   "outputs": [],
   "source": [
    "from pyspark.sql.functions import monotonically_increasing_id\n",
    "customers = customers.withColumn('review_id', monotonically_increasing_id())"
   ]
  },
  {
   "cell_type": "code",
   "execution_count": 8,
   "id": "36580868",
   "metadata": {},
   "outputs": [],
   "source": [
    "products.createOrReplaceTempView('products')\n",
    "customers.createOrReplaceTempView('customers')"
   ]
  },
  {
   "cell_type": "code",
   "execution_count": 14,
   "id": "15d81d17",
   "metadata": {},
   "outputs": [],
   "source": [
    "products.write.mode('overwrite').jdbc(url=JDBC['url'], table='products', properties=JDBC['props'])"
   ]
  },
  {
   "cell_type": "code",
   "execution_count": 15,
   "id": "c51118de",
   "metadata": {},
   "outputs": [],
   "source": [
    "customers.write.mode('overwrite').jdbc(url=JDBC['url'], table='customers', properties=JDBC['props'])"
   ]
  },
  {
   "cell_type": "code",
   "execution_count": 69,
   "id": "51f21e9a",
   "metadata": {},
   "outputs": [
    {
     "name": "stdout",
     "output_type": "stream",
     "text": [
      "root\n",
      " |-- category1: string (nullable = true)\n",
      " |-- category2: string (nullable = true)\n",
      " |-- category_url: string (nullable = true)\n",
      " |-- product_name: string (nullable = true)\n",
      " |-- product_url: string (nullable = true)\n",
      " |-- review_count: string (nullable = true)\n",
      " |-- product_rating: string (nullable = true)\n",
      " |-- product_id: long (nullable = false)\n",
      "\n"
     ]
    }
   ],
   "source": [
    "products.printSchema()"
   ]
  },
  {
   "cell_type": "code",
   "execution_count": 6,
   "id": "538312ce",
   "metadata": {},
   "outputs": [],
   "source": [
    "products_table = spark.sql('''\n",
    "    select product_id, product_name, product_url, category1, category2, category_url\n",
    "    from products\n",
    "    WHERE category1 IN (\n",
    "        SELECT category1\n",
    "        FROM (\n",
    "            SELECT category1, COUNT(category1) as category_count\n",
    "            FROM products\n",
    "            GROUP BY category1\n",
    "            HAVING category_count > 1\n",
    "        )\n",
    "    );\n",
    "''')"
   ]
  },
  {
   "cell_type": "code",
   "execution_count": 7,
   "id": "8a3ab33d",
   "metadata": {},
   "outputs": [],
   "source": [
    "products_table.createOrReplaceTempView('products_table')"
   ]
  },
  {
   "cell_type": "code",
   "execution_count": 8,
   "id": "577296ab",
   "metadata": {},
   "outputs": [
    {
     "name": "stdout",
     "output_type": "stream",
     "text": [
      "+-------------+--------+\n",
      "|    category1|count(1)|\n",
      "+-------------+--------+\n",
      "|    완구/취미|    8095|\n",
      "|   자동차용품|    5848|\n",
      "|헬스/건강식품|    6783|\n",
      "|  출산/유아동|    9491|\n",
      "|패션의류/잡화|    1780|\n",
      "|도서/음반/DVD|    9206|\n",
      "|         뷰티|    8468|\n",
      "|   가전디지털|    8824|\n",
      "|         식품|    9356|\n",
      "|  스포츠/레저|    7415|\n",
      "|  문구/오피스|    7343|\n",
      "|   홈인테리어|    7656|\n",
      "|     생활용품|    5726|\n",
      "| 반려동물용품|    6271|\n",
      "|     주방용품|    5963|\n",
      "+-------------+--------+\n",
      "\n"
     ]
    }
   ],
   "source": [
    "spark.sql('''\n",
    "    SELECT category1, count(*) FROM products_table\n",
    "    GROUP BY category1;\n",
    "''').show()"
   ]
  },
  {
   "cell_type": "code",
   "execution_count": 73,
   "id": "1ea3b88c",
   "metadata": {},
   "outputs": [
    {
     "name": "stdout",
     "output_type": "stream",
     "text": [
      "+--------+\n",
      "|count(1)|\n",
      "+--------+\n",
      "|  108225|\n",
      "+--------+\n",
      "\n"
     ]
    }
   ],
   "source": [
    "spark.sql('''\n",
    "    SELECT count(*) FROM products_table;\n",
    "''').show()"
   ]
  },
  {
   "cell_type": "code",
   "execution_count": 9,
   "id": "b84f137f",
   "metadata": {},
   "outputs": [],
   "source": [
    "products_table.write.mode('overwrite').jdbc(url=conf_dm['url'], table='products_table', properties=conf_dm['props'])"
   ]
  },
  {
   "cell_type": "code",
   "execution_count": 11,
   "id": "66167fe0",
   "metadata": {},
   "outputs": [],
   "source": [
    "products_review_info = spark.sql('''\n",
    "    SELECT tb1.product_id, tb1.product_rating, tb1.review_count\n",
    "    FROM products tb1\n",
    "    JOIN products_table tb2 ON tb1.product_id == tb2.product_id;\n",
    "''')"
   ]
  },
  {
   "cell_type": "code",
   "execution_count": 12,
   "id": "2b1383af",
   "metadata": {},
   "outputs": [],
   "source": [
    "products_review_info.createOrReplaceTempView('products_review_info')"
   ]
  },
  {
   "cell_type": "code",
   "execution_count": 13,
   "id": "3458fe62",
   "metadata": {},
   "outputs": [
    {
     "name": "stdout",
     "output_type": "stream",
     "text": [
      "+--------+\n",
      "|count(1)|\n",
      "+--------+\n",
      "|  108225|\n",
      "+--------+\n",
      "\n"
     ]
    }
   ],
   "source": [
    "spark.sql('''\n",
    "    select count(*) from products_review_info;\n",
    "''').show()"
   ]
  },
  {
   "cell_type": "code",
   "execution_count": 14,
   "id": "2583f18b",
   "metadata": {},
   "outputs": [],
   "source": [
    "products_review_info.write.mode('overwrite').jdbc(url=conf_dm['url'], table='products_review_info', properties=conf_dm['props'])"
   ]
  },
  {
   "cell_type": "code",
   "execution_count": 79,
   "id": "4bec694e",
   "metadata": {},
   "outputs": [
    {
     "name": "stdout",
     "output_type": "stream",
     "text": [
      "root\n",
      " |-- product_id: long (nullable = false)\n",
      " |-- product_name: string (nullable = true)\n",
      " |-- product_url: string (nullable = true)\n",
      " |-- category1: string (nullable = true)\n",
      " |-- category2: string (nullable = true)\n",
      " |-- category_url: string (nullable = true)\n",
      "\n"
     ]
    }
   ],
   "source": [
    "products_table.printSchema()"
   ]
  },
  {
   "cell_type": "code",
   "execution_count": 80,
   "id": "aa651cc8",
   "metadata": {},
   "outputs": [
    {
     "name": "stdout",
     "output_type": "stream",
     "text": [
      "root\n",
      " |-- category1+category2+product_name+product_url+rating_cnt+reviewer_name+userid+ratings+help+date+review_contents@@헬스/건강식품+곤약/방탄커피 외+국내산 시금치: string (nullable = true)\n",
      " |--  200g1: string (nullable = true)\n",
      " |--  1개+None+None+None+cust1+3+None+None+아삭해요~◈ 제품명 : 국내산 시금치: string (nullable = true)\n",
      " |--  200g3: string (nullable = true)\n",
      " |--  1개: string (nullable = true)\n",
      " |-- review_id: long (nullable = false)\n",
      "\n"
     ]
    }
   ],
   "source": [
    "customers.printSchema()"
   ]
  },
  {
   "cell_type": "code",
   "execution_count": null,
   "id": "8e0eac7d",
   "metadata": {},
   "outputs": [],
   "source": []
  },
  {
   "cell_type": "code",
   "execution_count": 15,
   "id": "33927eb3",
   "metadata": {},
   "outputs": [],
   "source": [
    "reviews_table = spark.sql('''\n",
    "    SELECT tb1.review_id, tb1.reviewer_name, tb1.userid, tb1.review_contents, tb1.ratings, tb1.product_name, tb1.category1, tb1.category2, tb2.product_id\n",
    "    FROM customers tb1\n",
    "    LEFT JOIN products_table tb2 ON tb1.product_url == tb2.product_url\n",
    "    WHERE tb1.category1 in (SELECT category1 FROM products_table\n",
    "    GROUP BY category1);\n",
    "''')"
   ]
  },
  {
   "cell_type": "code",
   "execution_count": 16,
   "id": "8e41ca50",
   "metadata": {},
   "outputs": [],
   "source": [
    "reviews_table.createOrReplaceTempView('reviews_table')"
   ]
  },
  {
   "cell_type": "code",
   "execution_count": 17,
   "id": "58c8de5d",
   "metadata": {},
   "outputs": [
    {
     "name": "stdout",
     "output_type": "stream",
     "text": [
      "+--------+\n",
      "|count(1)|\n",
      "+--------+\n",
      "|  159244|\n",
      "+--------+\n",
      "\n"
     ]
    }
   ],
   "source": [
    "spark.sql('''\n",
    "    select count(*) from reviews_table;\n",
    "''').show()"
   ]
  },
  {
   "cell_type": "code",
   "execution_count": 108,
   "id": "43fba0b2",
   "metadata": {},
   "outputs": [
    {
     "name": "stdout",
     "output_type": "stream",
     "text": [
      "+-------------+------------------+----------------------------------+-----------+----------+-------------+------+-------+----+----+--------------------------------+---------+\n",
      "|    category1|         category2|                      product_name|product_url|rating_cnt|reviewer_name|userid|ratings|help|date|                 review_contents|review_id|\n",
      "+-------------+------------------+----------------------------------+-----------+----------+-------------+------+-------+----+----+--------------------------------+---------+\n",
      "|헬스/건강식품|  곤약/방탄커피 외|          국내산 시금치, 200g, 1개|       None|      None|         None| cust1|      3|None|None|  아삭해요~◈ 제품명 : 국내산 ...|        0|\n",
      "|     결혼준비|          주방용품|  리한 오뚝이 롤리 주걱, 화이트...|       None|      None|         None| cust1|      3|None|None|위생적이고 엄청 편해요~◈ 제품...|        1|\n",
      "|헬스/건강식품|  곤약/방탄커피 외|              밀양 깻잎, 100g, 1개|       None|      None|         None| cust1|      3|None|None|  향이 좋아요~◈ 제품명 : 밀양...|        2|\n",
      "|         식품|              채소|         국내산 양배추, 1개입, 1개|       None|      None|         None| cust1|      3|None|None|  달콤해요~◈ 제품명 : 국내산 ...|        3|\n",
      "|헬스/건강식품|  곤약/방탄커피 외|            국내산 부추, 300g, 1개|       None|      None|         None| cust1|      3|None|None| 파릇파릇해요~◈ 제품명 : 국내...|        4|\n",
      "|         식품|              채소|                   감자, 500g, 1개|       None|      None|         None| cust1|      3|None|None|   고소해요~◈ 제품명 : 감자, ...|        5|\n",
      "|   싱글라이프| 반찬/간편조리식품|          국내산 깐쪽파, 200g, 1개|       None|      None|         None| cust1|      3|None|None|적당히 알싸하고 맛있어요~◈ 제...|        6|\n",
      "|    아트/공예|     데코/포장용품| 산리오캐릭터즈 롤 색칠스티커 2...|       None|      None|         None| cust1|      3|None|None|아이들이 너무 좋아해요~◈ 제품...|        7|\n",
      "|     주방용품|     냄비/프라이팬| 휘슬러 인덕션 레비탈 플러스 컴...|       None|      None|         None| cust1|      3|None|None|최고의 논스틱 코팅팬~◈ 제품명...|        8|\n",
      "|       홈카페|         원두/커피|돌체구스토 리스트레토 아덴자 캡...|       None|      None|         None| cust1|      3|None|None| 고소해요~◈ 제품명 : 돌체구스...|        9|\n",
      "|         식품|         생수/음료|    솔리몬 스퀴즈드 레몬즙, 990...|       None|      None|         None| cust1|      3|None|None| 새콤하고 상큼해요~◈ 제품명 :...|       10|\n",
      "|         식품|           쌀/잡곡|    임금님표 이천쌀 특등급, 10k...|       None|      None|         None| cust1|      3|None|None|  쌀은 역시 이천쌀~◈ 제품명 :...|       11|\n",
      "|     생활용품|          생활잡화| 에펠 가정용 진공포장기 비닐팩 ...|       None|      None|         None| cust1|      3|None|None| 두껍고 압축 잘 돼요~◈ 제품명...|       12|\n",
      "|         식품|              과일|    곰곰 세척 사과, 2kg박스, 1박스|       None|      None|         None| cust1|      3|None|None| 새콤하니 맛있어요~◈ 제품명 :...|       13|\n",
      "|         식품|              채소|           GAP 팽이버섯, 450g, 1개|       None|      None|         None| cust1|      3|None|None|쫄깃하고 식감이 너무 좋아요~◈...|       14|\n",
      "|헬스/건강식품|  곤약/방탄커피 외|            곰곰 시금치, 300g, 1개|       None|      None|         None| cust1|      3|None|None|향긋하고 아주 싱싱해요~◈ 제품...|       15|\n",
      "|헬스/건강식품|  곤약/방탄커피 외|       곰곰 우리콩 두부, 550g, 3팩|       None|      None|         None| cust1|      3|None|None|단단하고 부드러워요~◈ 제품명 ...|       16|\n",
      "|         식품|반찬/간편식/대용식|    일가 비타 와사비쌈무, 3kg, 1개|       None|      None|         None| cust1|      3|None|None| 아삭아삭 새콤해요~◈ 제품명 :...|       17|\n",
      "|   싱글라이프|     샐러드/시리얼|     곰곰 국내산 청양고추, 300g...|       None|      None|         None| cust1|      3|None|None|질기지 않고 맛있어요~◈ 제품명...|       18|\n",
      "|헬스/건강식품|  곤약/방탄커피 외|    일가집 비타 김밥단무지, 350...|       None|      None|         None| cust1|      3|None|None| 새콤달콤 아삭해요~◈ 제품명 :...|       19|\n",
      "+-------------+------------------+----------------------------------+-----------+----------+-------------+------+-------+----+----+--------------------------------+---------+\n",
      "only showing top 20 rows\n",
      "\n"
     ]
    }
   ],
   "source": [
    "customers.show()"
   ]
  },
  {
   "cell_type": "code",
   "execution_count": 109,
   "id": "0c5ad7c5",
   "metadata": {},
   "outputs": [
    {
     "name": "stdout",
     "output_type": "stream",
     "text": [
      "+---------+-------------+------+----------------------------------+-------+-----------------------------------+-------------+-------------------+----------+\n",
      "|review_id|reviewer_name|userid|                   review_contents|ratings|                       product_name|    category1|          category2|product_id|\n",
      "+---------+-------------+------+----------------------------------+-------+-----------------------------------+-------------+-------------------+----------+\n",
      "|        0|         None| cust1|    아삭해요~◈ 제품명 : 국내산 ...|      3|           국내산 시금치, 200g, 1개|헬스/건강식품|   곤약/방탄커피 외|      null|\n",
      "|        2|         None| cust1|    향이 좋아요~◈ 제품명 : 밀양...|      3|               밀양 깻잎, 100g, 1개|헬스/건강식품|   곤약/방탄커피 외|      null|\n",
      "|        3|         None| cust1|    달콤해요~◈ 제품명 : 국내산 ...|      3|          국내산 양배추, 1개입, 1개|         식품|               채소|      null|\n",
      "|        4|         None| cust1|   파릇파릇해요~◈ 제품명 : 국내...|      3|             국내산 부추, 300g, 1개|헬스/건강식품|   곤약/방탄커피 외|      null|\n",
      "|        5|         None| cust1|     고소해요~◈ 제품명 : 감자, ...|      3|                    감자, 500g, 1개|         식품|               채소|      null|\n",
      "|        8|         None| cust1|  최고의 논스틱 코팅팬~◈ 제품명...|      3|  휘슬러 인덕션 레비탈 플러스 컴...|     주방용품|      냄비/프라이팬|      null|\n",
      "|       10|         None| cust1|   새콤하고 상큼해요~◈ 제품명 :...|      3|     솔리몬 스퀴즈드 레몬즙, 990...|         식품|          생수/음료|      null|\n",
      "|       11|         None| cust1|    쌀은 역시 이천쌀~◈ 제품명 :...|      3|     임금님표 이천쌀 특등급, 10k...|         식품|            쌀/잡곡|      null|\n",
      "|       12|         None| cust1|   두껍고 압축 잘 돼요~◈ 제품명...|      3|  에펠 가정용 진공포장기 비닐팩 ...|     생활용품|           생활잡화|      null|\n",
      "|       13|         None| cust1|   새콤하니 맛있어요~◈ 제품명 :...|      3|     곰곰 세척 사과, 2kg박스, 1박스|         식품|               과일|      null|\n",
      "|       14|         None| cust1|  쫄깃하고 식감이 너무 좋아요~◈...|      3|            GAP 팽이버섯, 450g, 1개|         식품|               채소|      null|\n",
      "|       15|         None| cust1|  향긋하고 아주 싱싱해요~◈ 제품...|      3|             곰곰 시금치, 300g, 1개|헬스/건강식품|   곤약/방탄커피 외|      null|\n",
      "|       16|         None| cust1|  단단하고 부드러워요~◈ 제품명 ...|      3|        곰곰 우리콩 두부, 550g, 3팩|헬스/건강식품|   곤약/방탄커피 외|      null|\n",
      "|       17|         None| cust1|   아삭아삭 새콤해요~◈ 제품명 :...|      3|     일가 비타 와사비쌈무, 3kg, 1개|         식품| 반찬/간편식/대용식|      null|\n",
      "|       19|         None| cust1|   새콤달콤 아삭해요~◈ 제품명 :...|      3|     일가집 비타 김밥단무지, 350...|헬스/건강식품|   곤약/방탄커피 외|      null|\n",
      "|       20|         None| cust1|   새콤달콤해요~◈ 제품명 : 곰곰...|      3|     곰곰 대추방울토마토, 750g, 1개|         식품|   곤약/방탄커피 외|      null|\n",
      "|       21|         None| cust1|   신선하고 아삭해요~◈ 제품명 :...|      3|   풀무원 무농약 인증 국산 숙주,...|헬스/건강식품|   곤약/방탄커피 외|      null|\n",
      "|       22|         None| cust1|    굵고 싱싱해요~◈ 제품명 : 흙...|      3|                   흙대파, 1kg, 1개|         식품|   곤약/방탄커피 외|      null|\n",
      "|       23|         None| cust1|    신선해요~◈ 제품명 : 곰곰 청...|      3|             곰곰 청경채, 300g, 1개|헬스/건강식품|   곤약/방탄커피 외|      null|\n",
      "|       24|         None| cust1|   부드러워요~◈ 제품명 : 내츄럴...|      3| 내츄럴코튼 시그니처 팬티라이너,...|     생활용품|  생리대/성인기저귀|      null|\n",
      "|       25|         None| cust1|무농약 느타리버섯 부드럽고 쫄깃...|      3|    국내산 무농약 느타리버섯, 50...|         식품|               채소|      null|\n",
      "|       26|         None| cust1|    크고 신선해요~◈ 제품명 : 곰...|      3|    곰곰 무항생제 신선한 왕란 30...|         식품|          축산/계란|      null|\n",
      "|       27|         None| cust1|    비리지 않아요~◈ 제품명 : 곰...|      3|   곰곰 무농약인증 국산 콩나물, ...|헬스/건강식품|   곤약/방탄커피 외|      null|\n",
      "|       28|         None| cust1|    달고 아삭해요~◈ 제품명 : 국...|      3|          국내산 양배추, 1개입, 1개|         식품|               채소|      null|\n",
      "|       29|         None| cust1|    아삭해요~◈ 제품명 : 곰곰 국...|      3|     곰곰 국내산 백오이, 3개입, 1개|헬스/건강식품|   곤약/방탄커피 외|      null|\n",
      "|       30|         None| cust1|    향이 진해요~◈ 제품명 : 밀양...|      3|               밀양 깻잎, 100g, 1개|헬스/건강식품|   곤약/방탄커피 외|      null|\n",
      "|       31|         None| cust1|        우유는 K-MILK◈ 제품명 :...|      3| 건국유업 신선함이 가득한 우리우...|         식품|          생수/음료|      null|\n",
      "|       32|         None| cust1|    아삭해요~◈ 제품명 : 곰곰 국...|      3|      곰곰 국산 숙주나물, 500g, 1개|헬스/건강식품|   곤약/방탄커피 외|      null|\n",
      "|       33|         None| cust1|    오뚜기 만능식초~◈ 제품명 : ...|      3|         오뚜기 양조식초, 1.8L, 1개|         식품|장/소스/드레싱/식초|      null|\n",
      "|       34|         None| cust1|   고소해요~◈ 제품명 : 딜리조이...|      3|   딜리조이 고소한 국산콩 두부, ...|헬스/건강식품|   곤약/방탄커피 외|      null|\n",
      "|       35|         None| cust1|    질기지 않아요~◈ 제품명 : 곰...|      3|      곰곰 국내산 청양고추, 300g...|헬스/건강식품|   곤약/방탄커피 외|      null|\n",
      "|       36|         None| cust1|   고소해요~◈ 제품명 : 건국유업...|      3| 건국유업 신선함이 가득한 우리우...|         식품|          생수/음료|      null|\n",
      "|       38|         None| cust1|    친환경 세제~◈ 제품명 : 브리...|      3|  브리오신 블랙솝 사봉 느와르 다...|     생활용품|      청소/주방세제|      null|\n",
      "|       39|         None| cust1|   아삭아삭해요~◈ 제품명 : 곰곰...|      3|             곰곰 청경채, 300g, 1개|헬스/건강식품|   곤약/방탄커피 외|      null|\n",
      "|       41|         None| cust1|    알차고 단단해요~◈ 제품명 : ...|      3|          국내산 양배추, 1개입, 1개|헬스/건강식품|    건강분말/건강환|      null|\n",
      "|       42|         None| cust1|     \"달달해요~◈ 제품명 : 곰곰 ...|      3|     곰곰 세척 사과, 2kg박스, 1박스|         식품|               과일|      null|\n",
      "|       43|         None| cust1|  적당히 매콤하고 맛있어요~◈ 제...|      3|           국내산 깐마늘, 300g, 1개|         식품|               채소|      null|\n",
      "|       44|         None| cust1|  깻잎향이 아주 좋아요~◈ 제품명...|      3|         곰곰 GAP 밀양 깻잎, 100...|헬스/건강식품|   곤약/방탄커피 외|      null|\n",
      "|       45|         None| cust1|   디자인 이쁘고 크기도 커요~◈ ...|      3|  라이크하우스 철제 메쉬 펜트리 ...|   홈인테리어|          수납/정리|      null|\n",
      "|       47|         None| cust1|   부드럽고 싱싱해요~◈ 제품명 :...|      3|             국내산 부추, 300g, 2개|헬스/건강식품|   곤약/방탄커피 외|      null|\n",
      "|       48|         None| cust1|    싱싱해요~◈ 제품명 : 국내산 ...|      3|           국내산 청상추, 150g, 2개|         식품|               채소|      null|\n",
      "|       49|         None| cust1|    아삭한 숙주나물~◈ 제품명 : ...|      3|      곰곰 국산 숙주나물, 500g, 1개|헬스/건강식품|   곤약/방탄커피 외|      null|\n",
      "|       50|         None| cust1|   \"단단하고 싱싱해요~◈ 제품명 ...|      3|     국내산 알배기 배추, 1개입, 1개|         식품| 반찬/간편식/대용식|      null|\n",
      "|       52|         None| cust1| 아이들이 좋아하는 쉽고 재밌는 ...|      3|     설민석의 한국사 대모험 1~10...|도서/음반/DVD|        유아/어린이|      null|\n",
      "|       53|         None| cust1|    쫀득해요~◈ 제품명 : 사세 버...|      3|       사세 버팔로윙 (냉동), 1kg...|         식품| 냉장/냉동/간편요리|      null|\n",
      "|       54|         None| cust1| 가성비 훌륭하고, 글자가 또렷해...|      3|        Mylabel 브라더 호환 라벨...|  문구/오피스|    사무용품 전문관|      null|\n",
      "|       55|         None| cust1|  아삭해요~제품명 : 곰곰 청경채...|      3|             곰곰 청경채, 300g, 1개|헬스/건강식품|   곤약/방탄커피 외|      null|\n",
      "|       57|         None| cust1|    향긋해요~◈ 제품명 : 곰곰 국...|      3|        곰곰 국내산 쑥갓, 150g, 1개|         식품|장/소스/드레싱/식초|      null|\n",
      "|       58|         None| cust1|       100% 국산 참나무 장작~◈ ...|      3|    큐레스 3중 방습 국산 참나무 ...|  스포츠/레저|         캠핑전문관|      null|\n",
      "|       59|         None| cust1|   \"달콤하고 맛있어요~◈ 제품명 ...|      3|     곰곰 세척 사과, 2kg박스, 1박스|         식품|               과일|      null|\n",
      "|       60|         None| cust1|   얇고 터치감 좋아요~◈ 제품명 ...|      3| 신지모루 갤럭시워치 풀커버 자가...|   가전디지털|    스마트워치/밴드|      null|\n",
      "|       61|         None| cust1|   위생적이고 크기 딱 좋아요~◈ ...|      3|  히키스 전자레인지 냉장고 돔형 ...|     주방용품|           주방잡화|      null|\n",
      "|       62|         None| cust1|   가성비 좋은 코인 건전지~◈ 제...|      3|     도시바 리튬 코인 건전지 3V ...|   홈인테리어|       셀프인테리어|      null|\n",
      "|       64|         None| cust1|  무향이고 자극적이지 않아요~◈ ...|      3|    닥터지 브라이트닝 필링젤 120...|         뷰티|        클렌징/필링|      null|\n",
      "|       65|         None| cust1|    질기지 않아요~◈ 제품명 : 곰...|      3|       곰곰 국내산 흙대파, 1kg, 1개|         식품|   곤약/방탄커피 외|      null|\n",
      "|       66|         None| cust1|   깻잎 향이 너무 좋아요~◈ 제품...|      3|            곰곰 GAP 깻잎, 60g, 1개|헬스/건강식품|   곤약/방탄커피 외|      null|\n",
      "|       67|         None| cust1|   사용하기 편한 접착식 봉투~◈ ...|      3|    테이프 접착식형 서류봉투 245...|  문구/오피스|     카드/엽서/봉투|      null|\n",
      "|       68|         None| cust1|  질기지 않고 아삭해요~◈ 제품명...|      3|      곰곰 국내산 청양고추, 300g...|헬스/건강식품|   곤약/방탄커피 외|      null|\n",
      "|       69|         None| cust1|    단단헤요~◈ 제품명 : 국내산 ...|      3|          국내산 양배추, 1개입, 1개|         식품|               채소|      null|\n",
      "|       70|         None| cust1|   \"아삭하고 달콤해요~◈ 제품명 ...|      3|     곰곰 세척 사과, 2kg박스, 1박스|         식품|               과일|      null|\n",
      "|       71|         None| cust1|    쫄깃해요~◈ 제품명 : 빈타이 ...|      3|  빈타이 프리미엄 라이스 페이퍼 ...|     주방용품|        그릇/홈세트|      null|\n",
      "|       72|         None| cust1|   가성비 아주 좋은 필수템~◈ 제...|      3| 에이치디탑 건전지 아날로그 배터...|     생활용품|      공구/철물/DIY|      null|\n",
      "|       73|         None| cust1|    순한 제품~◈ 제품명 : 닥터지...|      3|  닥터지 레드 블레미쉬 클리어 수...|         뷰티|           스킨케어|      null|\n",
      "|       74|         None| cust1|  참치액은 한라 참치액~◈ 제품명...|      3|            한라 참치액, 900ml, 1개|         식품|장/소스/드레싱/식초|      null|\n",
      "|       75|         None| cust1|   텁텁 하지 않은 움트리 초장~◈...|      3|         움트리 양념 초장, 2kg, 1개|         식품|장/소스/드레싱/식초|      null|\n",
      "|       76|         None| cust1|   곧게 뻗은 대파 싱싱해요~◈ 제...|      3|                   흙대파, 1kg, 1개|         식품|   곤약/방탄커피 외|      null|\n",
      "|       77|         None| cust1|   레트로 감성 최고 스피커~◈ 제...|      3| 아이노비아 휴대용 오르미 레트로...|   가전디지털|           음향기기|      null|\n",
      "|       78|         None| cust1|  국내산 감자 맛있어요~◈ 제품명...|      3|                곰곰 감자, 1kg, 1개|         식품|               채소|      null|\n",
      "|       79|         None| cust1|    길어서 좋아요~◈ 제품명 : 내...|      3| 내츄럴코튼 시그니처 팬티라이너,...|     생활용품|  생리대/성인기저귀|      null|\n",
      "|       80|         None| cust1|   접착식 봉투 편해요~◈ 제품명 ...|      2|    테이프 접착식형 서류봉투 245...|  문구/오피스|     카드/엽서/봉투|      null|\n",
      "|       81|         None| cust1|    단단해요~◈ 제품명 : 국내산 ...|      3|          국내산 양배추, 1개입, 1개|헬스/건강식품|    건강분말/건강환|      null|\n",
      "|       82|         None| cust1|   단단하고 달달해요~◈ 제품명 :...|      3|       곰곰 국내산 흙당근, 1kg, 1개|헬스/건강식품|   곤약/방탄커피 외|      null|\n",
      "|       83|         None| cust1|   담백하고 깔끔해요~◈ 제품명 :...|      3|      요플레 Only2 플레인 요거트...|         식품|  유제품/아이스크림|      null|\n",
      "|       84|         None| cust1|   매콤하고 아삭해요~◈ 제품명 :...|      3|      곰곰 국내산 청양고추, 300g...|헬스/건강식품|   곤약/방탄커피 외|      null|\n",
      "|       85|         None| cust1|    임신 준비 필수템~◈ 제품명 :...|      3|  스마일 데이비드 S 임신테스트기...|  출산/유아동|      임부/태교용품|      null|\n",
      "|       86|         None| cust1|       99.5% 감자전분~◈ 제품명 ...|      3|       농부의뜰 감자전분, 500g, 1개|         식품|   가루/조미료/오일|      null|\n",
      "|       87|         None| cust1|   곧게 뻗고 묵직해요~◈ 제품명 ...|      3|            국내산 가지, 2개입, 1개|헬스/건강식품|   곤약/방탄커피 외|      null|\n",
      "|       88|         None| cust1|   아삭아삭 맛있어요~◈ 제품명 :...|      3|             곰곰 청경채, 300g, 1개|헬스/건강식품|   곤약/방탄커피 외|      null|\n",
      "|       89|         None| cust1|   담백하고 맛있어요~◈ 제품명 :...|      3|      풀무원 소가 찌개두부, 300g...|헬스/건강식품|   곤약/방탄커피 외|      null|\n",
      "|       91|         None| cust1|   새콤달콤 맛있어요~◈ 제품명 :...|      3|     일가집 비타 김밥단무지, 350...|         식품| 반찬/간편식/대용식|      null|\n",
      "|       92|         None| cust1|    아삭해요~◈ 제품명 : 국내산 ...|      2|          국내산 백오이, 3개입, 1개|헬스/건강식품|   곤약/방탄커피 외|      null|\n",
      "|       93|         None| cust1|   아삭아삭 맛있어요~◈ 제품명 :...|      3|      곰곰 국산 숙주나물, 500g, 1개|헬스/건강식품|   곤약/방탄커피 외|      null|\n",
      "|       94|         None| cust1|   담백하고 쫄깃해요~◈ 제품명 :...|      3|   다향오리 1등급 훈제 오리 슬라...|         식품|          축산/계란|      null|\n",
      "|       95|         None| cust1| 적당히 매콤하고 질기지 않아요~...|      3|      곰곰 국내산 청양고추, 300g...|헬스/건강식품|   곤약/방탄커피 외|      null|\n",
      "|       96|         None| cust1|   편리합니다~◈ 제품명 : 카슈아...|      3|     카슈아 차량용 스마트 LCD 릴...|   자동차용품|           인테리어|      null|\n",
      "|       97|         None| cust1|   신선하고 고소해요~◈ 제품명 :...|      3|        서울우유 1급A우유, 2300m...|         식품|          생수/음료|      null|\n",
      "|       98|         None| cust1|    신선해요~◈ 제품명 : 곰곰 무...|      3|    곰곰 무항생제 신선한 왕란 30...|         식품|   곤약/방탄커피 외|      null|\n",
      "|       99|         None| cust1|    단단해요~◈ 제품명 : 곰곰 국...|      3|     곰곰 국내산 양배추, 1개입, 1개|헬스/건강식품|   곤약/방탄커피 외|      null|\n",
      "|      100|         None| cust1|  크기가 일정하고 단단해요~◈ 제...|      3|     곰곰 국내산 백오이, 5개입, 1개|헬스/건강식품|   곤약/방탄커피 외|      null|\n",
      "|      101|         None| cust1|    안맵고 맛있어요~◈ 제품명 : ...|      3|           국내산 깐마늘, 300g, 1개|         식품|               채소|      null|\n",
      "|      102|         None| cust1| 고소하고 풍부한 육즙의 우삼겹◈...|      3| 푸드랩플러스 미국산 돌돌말이 대...|         식품|          축산/계란|      null|\n",
      "|      103|         None| cust1|     굴소스 중 최고~◈ 제품명 : ...|      3|       이금기 팬더 굴 소스, 510g...|         식품|장/소스/드레싱/식초|      null|\n",
      "|      104|         None| cust1|    싱싱해요~◈ 제품명 : 국내산 ...|      3|             국내산 부추, 300g, 1개|헬스/건강식품|   곤약/방탄커피 외|      null|\n",
      "|      105|         None| cust1|   상태가 너무 별로 였어요~◈ 제...|      1|    곰곰 제주도 친환경 무, 1개입...|헬스/건강식품|   곤약/방탄커피 외|      null|\n",
      "|      106|         None| cust1|   멋있어요~◈ 제품명 : 쥬라기월...|      3|쥬라기월드 백악기어드벤처 스피노...|    완구/취미|           블록놀이|      null|\n",
      "|      107|         None| cust1|    달고 맛있어요~◈ 제품명 : 곰...|      3|     곰곰 청송 GAP 당도선별 꼬마...|         식품|               과일|      null|\n",
      "|      108|         None| cust1|   아삭아삭 맛있어요~◈ 제품명 :...|      3|      곰곰 아삭한 숙주나물, 500g...|헬스/건강식품|   곤약/방탄커피 외|      null|\n",
      "|      109|         None| cust1|   임신 준비에 필수템~◈ 제품명 ...|      3| 스마일랩 배테기 데이비드 배란테...|  출산/유아동|      임부/태교용품|      null|\n",
      "|      110|         None| cust1|   초장은 언제나 움트리 초장~◈ ...|      3|         움트리 양념 초장, 1kg, 1개|         식품|장/소스/드레싱/식초|      null|\n",
      "|      111|         None| cust1|   새콤달콤 맛있어요~◈ 제품명 :...|      3|   풀무원 풀스키친 깻잎무쌈, 1개...|         식품| 반찬/간편식/대용식|      null|\n",
      "+---------+-------------+------+----------------------------------+-------+-----------------------------------+-------------+-------------------+----------+\n",
      "only showing top 100 rows\n",
      "\n"
     ]
    }
   ],
   "source": [
    "reviews_table.show(100)"
   ]
  },
  {
   "cell_type": "code",
   "execution_count": 18,
   "id": "0dc9144b",
   "metadata": {},
   "outputs": [],
   "source": [
    "reviews_table.write.mode('overwrite').jdbc(url=conf_dm['url'], table='reviews_table', properties=conf_dm['props'])"
   ]
  },
  {
   "cell_type": "markdown",
   "id": "7b9fb22e",
   "metadata": {},
   "source": [
    "### products 데이터 프레임 => 3개의 table 생성(FK로 연결)\n",
    "CREATE TABLE first_category AS\n",
    "SELECT DISTINCT category1\n",
    "FROM products;\n",
    "ALTER TABLE first_category ADD PRIMARY KEY(category1);\n",
    "\n",
    "CREATE TABLE second_category (\n",
    "    category1 VARCHAR(50),\n",
    "    category2 VARCHAR(50),\n",
    "    category_url VARCHAR(500),\n",
    "    PRIMARY KEY (category2, category_url)\n",
    ") AS\n",
    "SELECT DISTINCT category1, category2, category_url\n",
    "FROM products;\n",
    "ALTER TABLE second_category ADD CONSTRAINT fk_category1 FOREIGN KEY (category1) REFERENCES first_category(category1);\n",
    "\n",
    "CREATE TABLE products_data (\n",
    "    product_name VARCHAR(500),\n",
    "    product_url VARCHAR(500),\n",
    "    review_count INT,\n",
    "    product_rating FLOAT,\n",
    "    category2 VARCHAR(50),\n",
    "    PRIMARY KEY (product_name, product_url)\n",
    ") AS\n",
    "SELECT product_name, product_url, review_count, product_rating, category2\n",
    "FROM products;\n",
    "ALTER TABLE products_data ADD CONSTRAINT fk_category2 FOREIGN KEY (category2) REFERENCES second_category(category2);"
   ]
  },
  {
   "cell_type": "code",
   "execution_count": 1,
   "id": "7fa0aa03",
   "metadata": {},
   "outputs": [],
   "source": [
    "# products.createOrReplaceTempView('products')"
   ]
  },
  {
   "cell_type": "code",
   "execution_count": 5,
   "id": "0d472c8e",
   "metadata": {},
   "outputs": [],
   "source": [
    "# products.write.mode('overwrite').jdbc(url=JDBC['url'], table='products', properties=JDBC['props'])"
   ]
  },
  {
   "cell_type": "code",
   "execution_count": 2,
   "id": "84034c24",
   "metadata": {},
   "outputs": [],
   "source": [
    "# # category1 정보만 있는 table\n",
    "# table_category1 = spark.sql('''\n",
    "#     SELECT category1\n",
    "#     FROM products\n",
    "#     GROUP BY category1\n",
    "#     HAVING count(category1) > 1;\n",
    "# ''')"
   ]
  },
  {
   "cell_type": "code",
   "execution_count": 3,
   "id": "b254534c",
   "metadata": {},
   "outputs": [],
   "source": [
    "# # category2, category_url, category1(FK)로 가지고 있는 table\n",
    "# cat2 = spark.sql('''\n",
    "#     select DISTINCT category2, category_url, category1\n",
    "#     from products;\n",
    "# ''')"
   ]
  },
  {
   "cell_type": "code",
   "execution_count": 4,
   "id": "0db00b7d",
   "metadata": {},
   "outputs": [],
   "source": [
    "# # category1으로 join\n",
    "# table_category1.createOrReplaceTempView(\"category1_view\")\n",
    "# cat2.createOrReplaceTempView(\"category2_view\")\n",
    "\n",
    "# table_category2 = spark.sql('''\n",
    "#     SELECT DISTINCT tc2.category2, tc2.category_url, tc1.category1\n",
    "#     FROM category2_view tc2\n",
    "#     JOIN category1_view tc1 ON tc2.category1 = tc1.category1\n",
    "# ''')"
   ]
  },
  {
   "cell_type": "code",
   "execution_count": 5,
   "id": "4e2c6dfe",
   "metadata": {},
   "outputs": [],
   "source": [
    "# # product_name, product_url, review_count, product_rating, category2 있는 table\n",
    "# products_info = spark.sql('''\n",
    "#     SELECT DISTINCT product_name, product_url, review_count, product_rating, category2\n",
    "#     FROM products;\n",
    "# ''')"
   ]
  },
  {
   "cell_type": "code",
   "execution_count": 6,
   "id": "656ba3e9",
   "metadata": {},
   "outputs": [],
   "source": [
    "# table_category2.createOrReplaceTempView(\"table_category2\")\n",
    "# products_info.createOrReplaceTempView(\"products_info\")\n",
    "\n",
    "# # category2로 join\n",
    "# table_category3 = spark.sql('''\n",
    "#     SELECT DISTINCT tc1.product_name, tc1.product_url, tc1.review_count, tc1.product_rating, tc2.category2\n",
    "#     FROM products_info tc1\n",
    "#     JOIN table_category2 tc2 ON tc1.category2 = tc2.category2;\n",
    "# ''')"
   ]
  },
  {
   "cell_type": "code",
   "execution_count": 7,
   "id": "69dc5385",
   "metadata": {},
   "outputs": [],
   "source": [
    "# table_category1.write.mode('overwrite').jdbc(url=JDBC['url'], table='products_table_1', properties=JDBC['props'])"
   ]
  },
  {
   "cell_type": "code",
   "execution_count": 8,
   "id": "ef17878b",
   "metadata": {},
   "outputs": [],
   "source": [
    "# table_category2.write.mode('overwrite').jdbc(url=JDBC['url'], table='products_table_2', properties=JDBC['props'])"
   ]
  },
  {
   "cell_type": "code",
   "execution_count": 9,
   "id": "fc929c17",
   "metadata": {},
   "outputs": [],
   "source": [
    "# table_category3.write.mode('overwrite').jdbc(url=JDBC['url'], table='products_table_3', properties=JDBC['props'])"
   ]
  },
  {
   "cell_type": "markdown",
   "id": "4eb5760a",
   "metadata": {},
   "source": [
    "## reviews 파일 이용"
   ]
  },
  {
   "cell_type": "code",
   "execution_count": 41,
   "id": "080c5517",
   "metadata": {},
   "outputs": [],
   "source": [
    "# customers.write.mode('overwrite').jdbc(url=JDBC['url'], table='customers', properties=JDBC['props'])"
   ]
  },
  {
   "cell_type": "code",
   "execution_count": 10,
   "id": "1865025c",
   "metadata": {},
   "outputs": [],
   "source": [
    "# customers.createOrReplaceTempView('customers')"
   ]
  },
  {
   "cell_type": "code",
   "execution_count": 11,
   "id": "d87a38f4",
   "metadata": {},
   "outputs": [],
   "source": [
    "# customers.printSchema()"
   ]
  },
  {
   "cell_type": "code",
   "execution_count": 12,
   "id": "846acb38",
   "metadata": {},
   "outputs": [],
   "source": [
    "# customers.show()"
   ]
  },
  {
   "cell_type": "code",
   "execution_count": 13,
   "id": "dfc528a4",
   "metadata": {
    "scrolled": true
   },
   "outputs": [],
   "source": [
    "# # category1 정보만 있는 table\n",
    "# reviews_table_category1 = spark.sql('''\n",
    "#     SELECT DISTINCT category1\n",
    "#     FROM customers\n",
    "#     WHERE category1 IN ('출산/유아동', '뷰티', '도서/음반/DVD', '자동차용품', '가전디지털', '패션의류/잡화', '식품','완구/취미', '헬스/건강식품', '홈인테리어', '주방용품', '생활용품', '문구/오피스', '반려동물용품','스포츠/레저')\n",
    "#     GROUP BY category1;\n",
    "# ''')"
   ]
  },
  {
   "cell_type": "code",
   "execution_count": 14,
   "id": "fc386539",
   "metadata": {},
   "outputs": [],
   "source": [
    "# reviews_table_category1.createOrReplaceTempView('reviews_table_category1')"
   ]
  },
  {
   "cell_type": "code",
   "execution_count": 15,
   "id": "5bd730d9",
   "metadata": {},
   "outputs": [],
   "source": [
    "# reviews_cat2 = spark.sql('''\n",
    "#     select DISTINCT category2, category1\n",
    "#     from customers;\n",
    "# ''')"
   ]
  },
  {
   "cell_type": "code",
   "execution_count": 16,
   "id": "c060501f",
   "metadata": {},
   "outputs": [],
   "source": [
    "# # category1으로 join\n",
    "# reviews_table_category1.createOrReplaceTempView(\"category1_view\")\n",
    "# reviews_cat2.createOrReplaceTempView(\"category2_view\")\n",
    "\n",
    "# reviews_table_category2 = spark.sql('''\n",
    "#     SELECT DISTINCT tc2.category2, tc1.category1\n",
    "#     FROM category2_view tc2\n",
    "#     JOIN category1_view tc1 ON tc2.category1 = tc1.category1\n",
    "# ''')"
   ]
  },
  {
   "cell_type": "code",
   "execution_count": 17,
   "id": "0dc7c3e4",
   "metadata": {},
   "outputs": [],
   "source": [
    "# reviews_table_category2.createOrReplaceTempView('reviews_table_category2')"
   ]
  },
  {
   "cell_type": "code",
   "execution_count": 18,
   "id": "36571639",
   "metadata": {},
   "outputs": [],
   "source": [
    "# customers.printSchema()"
   ]
  },
  {
   "cell_type": "code",
   "execution_count": 19,
   "id": "855f996d",
   "metadata": {},
   "outputs": [],
   "source": [
    "\n",
    "# reviews_info = spark.sql('''\n",
    "#     SELECT DISTINCT product_name, review_cnt, reviewer_name, userid, ratings, review_contents, category2\n",
    "#     FROM customers;\n",
    "# ''')"
   ]
  },
  {
   "cell_type": "code",
   "execution_count": 20,
   "id": "d042ba54",
   "metadata": {},
   "outputs": [],
   "source": [
    "# reviews_table_category2.createOrReplaceTempView(\"reviews_table_category2\")\n",
    "# reviews_info.createOrReplaceTempView(\"reviews_info\")\n",
    "\n",
    "# # category2로 join\n",
    "# reviews_table_category3 = spark.sql('''\n",
    "#     SELECT DISTINCT tc1.product_name, tc1.review_cnt, tc1.reviewer_name, tc1.userid, tc1.ratings, tc1.review_contents, tc2.category2\n",
    "#     FROM reviews_info tc1\n",
    "#     JOIN reviews_table_category2 tc2 ON tc1.category2 = tc2.category2;\n",
    "# ''')"
   ]
  },
  {
   "cell_type": "code",
   "execution_count": 21,
   "id": "1bfe2be5",
   "metadata": {},
   "outputs": [],
   "source": [
    "# reviews_table_category1.write.mode('overwrite').jdbc(url=JDBC['url'], table='reviews_table_category1', properties=JDBC['props'])"
   ]
  },
  {
   "cell_type": "code",
   "execution_count": 22,
   "id": "c0ffa4ef",
   "metadata": {},
   "outputs": [],
   "source": [
    "# reviews_table_category2.write.mode('overwrite').jdbc(url=JDBC['url'], table='reviews_table_category2', properties=JDBC['props'])"
   ]
  },
  {
   "cell_type": "code",
   "execution_count": 23,
   "id": "5acfe0ed",
   "metadata": {},
   "outputs": [],
   "source": [
    "# reviews_table_category3.write.mode('overwrite').jdbc(url=JDBC['url'], table='reviews_table_category3', properties=JDBC['props'])"
   ]
  },
  {
   "cell_type": "code",
   "execution_count": null,
   "id": "beb4356e",
   "metadata": {},
   "outputs": [],
   "source": [
    "# # dm db에 저장할 predict 테이블\n",
    "# predict = customers.select(col('review_contents').alias('REVIEW')\n",
    "#                           , col('ratings').alias('RATING'))"
   ]
  },
  {
   "cell_type": "code",
   "execution_count": null,
   "id": "40862366",
   "metadata": {},
   "outputs": [],
   "source": [
    "# predict.write.mode('overwrite').jdbc(url=JDBC['url'], table='predict', properties=JDBC['props'])\n",
    "# predict.show()"
   ]
  },
  {
   "cell_type": "code",
   "execution_count": null,
   "id": "dae6349f",
   "metadata": {},
   "outputs": [],
   "source": []
  }
 ],
 "metadata": {
  "kernelspec": {
   "display_name": "Python 3",
   "language": "python",
   "name": "python3"
  },
  "language_info": {
   "codemirror_mode": {
    "name": "ipython",
    "version": 3
   },
   "file_extension": ".py",
   "mimetype": "text/x-python",
   "name": "python",
   "nbconvert_exporter": "python",
   "pygments_lexer": "ipython3",
   "version": "3.6.9"
  }
 },
 "nbformat": 4,
 "nbformat_minor": 5
}
