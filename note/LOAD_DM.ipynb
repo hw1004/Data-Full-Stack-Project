{
 "cells": [
  {
   "cell_type": "code",
   "execution_count": 3,
   "id": "5b67a1df",
   "metadata": {},
   "outputs": [],
   "source": [
    "conf_dw = {\n",
    "      'url':'jdbc:mysql://localhost:3306/final_project?characterEncoding=utf8&serverTimezone=Asia/Seoul'\n",
    "     ,'props':{\n",
    "      'user':'bigMysql',\n",
    "      'password':'bigMysql1234@'   \n",
    "      }\n",
    "}\n",
    "\n",
    "conf_dm = {\n",
    "      'url':'jdbc:mysql://localhost:3306/final_project_DM?characterEncoding=utf8&serverTimezone=Asia/Seoul'\n",
    "     ,'props':{\n",
    "      'user':'bigDM',\n",
    "      'password':'bigDM1234@'   \n",
    "      }\n",
    "}"
   ]
  },
  {
   "cell_type": "code",
   "execution_count": 4,
   "id": "392d3fb3",
   "metadata": {},
   "outputs": [],
   "source": [
    "# table 저장 / 반환 관련한 함수 구성\n",
    "# config : db 연결 정보\n",
    "# spark.read.jdbc() : db에서 명시된 테이블을 반환받는 모듈\n",
    "def find_data(config, table_name) :\n",
    "    return spark.read.jdbc(url= config['url'], table=table_name, properties=config['props'])\n",
    "\n",
    "def save_data(config, df, table_name) :\n",
    "    return df.write.jdbc(url= config['url'], table=table_name, mode='overwrite' , properties=config['props'])"
   ]
  },
  {
   "cell_type": "markdown",
   "id": "3a097345",
   "metadata": {},
   "source": [
    "## 1. 시나리오 1(rating prediction)\n",
    "- reviews_table_category3 => ratings, review_contents 이용해서 진행 (NLP 모델링에 사용)"
   ]
  },
  {
   "cell_type": "code",
   "execution_count": 5,
   "id": "25b6b28f",
   "metadata": {},
   "outputs": [],
   "source": [
    "products_review_info = find_data(conf_dm, 'products_review_info')\n",
    "products_table = find_data(conf_dm, 'products_table')\n",
    "reviews_table = find_data(conf_dm, 'reviews_table')"
   ]
  },
  {
   "cell_type": "code",
   "execution_count": 6,
   "id": "1b97e799",
   "metadata": {},
   "outputs": [],
   "source": [
    "reviews_table.createOrReplaceTempView('reviews_table')\n",
    "products_table.createOrReplaceTempView('products_table')\n",
    "products_review_info.createOrReplaceTempView('products_review_info')"
   ]
  },
  {
   "cell_type": "code",
   "execution_count": 7,
   "id": "14765ed9",
   "metadata": {},
   "outputs": [],
   "source": [
    "scenario1 = spark.sql('''\n",
    "    SELECT review_id, ratings, review_contents\n",
    "    FROM reviews_table;\n",
    "''')"
   ]
  },
  {
   "cell_type": "code",
   "execution_count": 8,
   "id": "f56d7283",
   "metadata": {},
   "outputs": [],
   "source": [
    "scenario1.createOrReplaceTempView('scenario1')"
   ]
  },
  {
   "cell_type": "code",
   "execution_count": 9,
   "id": "bdb29e17",
   "metadata": {},
   "outputs": [
    {
     "name": "stdout",
     "output_type": "stream",
     "text": [
      "+--------+\n",
      "|count(1)|\n",
      "+--------+\n",
      "|  159244|\n",
      "+--------+\n",
      "\n"
     ]
    }
   ],
   "source": [
    "spark.sql('''\n",
    "    select count(*) from scenario1;\n",
    "''').show()"
   ]
  },
  {
   "cell_type": "code",
   "execution_count": 10,
   "id": "8bbbd39b",
   "metadata": {},
   "outputs": [],
   "source": [
    "save_data(conf_dm, scenario1, 'scenario1')"
   ]
  },
  {
   "cell_type": "markdown",
   "id": "98d25cce",
   "metadata": {},
   "source": [
    "## 시나리오 2(recommendation)\n",
    "- products_table_1, 2, 3 연결해서 3의 rating, review_cnt를이용해서 weight 부여 => product_name, product_url "
   ]
  },
  {
   "cell_type": "code",
   "execution_count": 11,
   "id": "23786822",
   "metadata": {},
   "outputs": [
    {
     "name": "stdout",
     "output_type": "stream",
     "text": [
      "+-------------+\n",
      "|count(userid)|\n",
      "+-------------+\n",
      "|          830|\n",
      "+-------------+\n",
      "\n"
     ]
    }
   ],
   "source": [
    "spark.sql('''\n",
    "    select count(userid) from (select userid from reviews_table) where userid LIKE 'cust%';\n",
    "''').show()"
   ]
  },
  {
   "cell_type": "markdown",
   "id": "8455aa15",
   "metadata": {},
   "source": [
    "### 로그인 한 사람 카테고리, 제품 추천\n"
   ]
  },
  {
   "cell_type": "code",
   "execution_count": 12,
   "id": "c6bf0ad0",
   "metadata": {},
   "outputs": [],
   "source": [
    "login_recommend = spark.sql('''\n",
    "    SELECT tb1.review_id, tb1.userid, tb1.ratings, tb1.category1, tb1.category2, tb1.product_name, tb2.product_url\n",
    "    FROM reviews_table tb1\n",
    "    LEFT JOIN products_table tb2 ON tb1.product_id == tb2.product_id;\n",
    "''')"
   ]
  },
  {
   "cell_type": "code",
   "execution_count": 13,
   "id": "d38581cf",
   "metadata": {},
   "outputs": [],
   "source": [
    "login_recommend.createOrReplaceTempView('login_recommend')"
   ]
  },
  {
   "cell_type": "code",
   "execution_count": 14,
   "id": "5efb5400",
   "metadata": {},
   "outputs": [
    {
     "name": "stdout",
     "output_type": "stream",
     "text": [
      "+--------+\n",
      "|count(1)|\n",
      "+--------+\n",
      "|  159244|\n",
      "+--------+\n",
      "\n"
     ]
    }
   ],
   "source": [
    "spark.sql('''\n",
    "    select count(*) from login_recommend;\n",
    "''').show()"
   ]
  },
  {
   "cell_type": "code",
   "execution_count": null,
   "id": "bf9e0d8e",
   "metadata": {},
   "outputs": [],
   "source": []
  },
  {
   "cell_type": "code",
   "execution_count": 15,
   "id": "01b9406d",
   "metadata": {},
   "outputs": [],
   "source": [
    "save_data(conf_dm, login_recommend, 'login_recommend')"
   ]
  },
  {
   "cell_type": "markdown",
   "id": "324c323b",
   "metadata": {},
   "source": [
    "### 로그인 안한 사람 제품, 카테고리 추천"
   ]
  },
  {
   "cell_type": "code",
   "execution_count": 16,
   "id": "6f50a3b8",
   "metadata": {},
   "outputs": [],
   "source": [
    "no_login_recommend = spark.sql('''\n",
    "    SELECT tb1.product_id, tb1.product_rating, tb1.review_count, tb2.category1, tb2.category2, tb2.product_name, tb2.product_url\n",
    "    FROM products_review_info tb1\n",
    "    JOIN products_table tb2 ON tb1.product_id == tb2.product_id\n",
    "    WHERE tb2.category1 IN (\n",
    "        SELECT category1\n",
    "        FROM (\n",
    "            SELECT category1, COUNT(*) as category_count\n",
    "            FROM products_table\n",
    "            GROUP BY category1\n",
    "            HAVING category_count > 1\n",
    "        )\n",
    "    );\n",
    "''')"
   ]
  },
  {
   "cell_type": "code",
   "execution_count": 17,
   "id": "34f560de",
   "metadata": {},
   "outputs": [],
   "source": [
    "no_login_recommend.createOrReplaceTempView('no_login_recommend')"
   ]
  },
  {
   "cell_type": "code",
   "execution_count": 18,
   "id": "e601dc4d",
   "metadata": {},
   "outputs": [
    {
     "name": "stdout",
     "output_type": "stream",
     "text": [
      "+--------+\n",
      "|count(1)|\n",
      "+--------+\n",
      "|  108225|\n",
      "+--------+\n",
      "\n"
     ]
    }
   ],
   "source": [
    "spark.sql('''\n",
    "    select count(*) from no_login_recommend;\n",
    "''').show()"
   ]
  },
  {
   "cell_type": "code",
   "execution_count": 19,
   "id": "7ced7f9e",
   "metadata": {},
   "outputs": [],
   "source": [
    "save_data(conf_dm, no_login_recommend, 'no_login_recommend')"
   ]
  },
  {
   "cell_type": "markdown",
   "id": "0412f50b",
   "metadata": {},
   "source": [
    "## 시나리오3 (visualization)"
   ]
  },
  {
   "cell_type": "code",
   "execution_count": 20,
   "id": "f7164fce",
   "metadata": {},
   "outputs": [],
   "source": [
    "wordcloud = spark.sql('''\n",
    "    SELECT tb1.review_id, tb2.category1, tb2.category2, tb1.ratings, tb1.review_contents\n",
    "    FROM reviews_table tb1\n",
    "    JOIN products_table tb2 ON tb1.product_id == tb2.product_id;\n",
    "''')"
   ]
  },
  {
   "cell_type": "code",
   "execution_count": 21,
   "id": "0a6da698",
   "metadata": {},
   "outputs": [],
   "source": [
    "save_data(conf_dm, wordcloud, 'wordcloud')"
   ]
  },
  {
   "cell_type": "code",
   "execution_count": 22,
   "id": "e008b00f",
   "metadata": {},
   "outputs": [],
   "source": [
    "products_review_visualization = spark.sql('''\n",
    "    SELECT tb1.product_id, tb1.product_rating, tb1.review_count, tb2.product_name, tb2.category1, tb2.category2\n",
    "    FROM products_review_info tb1\n",
    "    JOIN products_table tb2 ON tb1.product_id == tb2.product_id;\n",
    "''')"
   ]
  },
  {
   "cell_type": "code",
   "execution_count": 23,
   "id": "999acefe",
   "metadata": {},
   "outputs": [],
   "source": [
    "products_review_visualization.createOrReplaceTempView('products_review_visualization')"
   ]
  },
  {
   "cell_type": "code",
   "execution_count": 24,
   "id": "d10a893e",
   "metadata": {},
   "outputs": [
    {
     "name": "stdout",
     "output_type": "stream",
     "text": [
      "+--------+\n",
      "|count(1)|\n",
      "+--------+\n",
      "|  108225|\n",
      "+--------+\n",
      "\n"
     ]
    }
   ],
   "source": [
    "spark.sql('''\n",
    "    select count(*) from products_review_visualization;\n",
    "''').show()"
   ]
  },
  {
   "cell_type": "code",
   "execution_count": 25,
   "id": "04193ced",
   "metadata": {},
   "outputs": [],
   "source": [
    "save_data(conf_dm, products_review_visualization, 'products_review_visualization')"
   ]
  },
  {
   "cell_type": "code",
   "execution_count": null,
   "id": "ec63601c",
   "metadata": {},
   "outputs": [],
   "source": []
  }
 ],
 "metadata": {
  "kernelspec": {
   "display_name": "Python 3",
   "language": "python",
   "name": "python3"
  },
  "language_info": {
   "codemirror_mode": {
    "name": "ipython",
    "version": 3
   },
   "file_extension": ".py",
   "mimetype": "text/x-python",
   "name": "python",
   "nbconvert_exporter": "python",
   "pygments_lexer": "ipython3",
   "version": "3.6.9"
  }
 },
 "nbformat": 4,
 "nbformat_minor": 5
}
